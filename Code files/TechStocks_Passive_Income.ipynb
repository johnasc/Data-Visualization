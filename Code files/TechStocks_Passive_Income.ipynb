{
 "cells": [
  {
   "cell_type": "markdown",
   "id": "59dea8b8",
   "metadata": {},
   "source": [
    "# Data Visualizations Project - Stock Market Notifications System (Email, SMS and Telegram)\n",
    "\n",
    "\n",
    "The world is changing and while the world economies keep on growing. People epsecially youths and students struggle to pay their bills. As students we wanted to have at least a passive income and because we are working towards our goal to become data scientists we thought it would be much better to invest in stock market mainly tech stocks. Is there any problem with that? Definitely no but this game requires time and so we came out with a notification system which will help us to only focus on the investing/trading strategy.\n",
    "\n",
    "Project developed by:\n",
    "\n",
    "- Johnas Chami, number: 20220723\n",
    "\n",
    "- Mbagwu Ozichi, number: 20220725\n",
    "\n",
    "- Seyram Nkulenu, number: 20221380 \n",
    "\n",
    "- Wai Kong Ng, number: 20221384"
   ]
  },
  {
   "cell_type": "markdown",
   "id": "2e1947d6",
   "metadata": {},
   "source": [
    "<div class=\"alert alert-block alert-info\">\n",
    "\n",
    "# Index\n",
    "    \n",
    "[1. Imports](#1)<br>\n",
    "    \n",
    "- [1.1 Import the needed Libraries](#1.1)<br>\n",
    "\n",
    "- [1.2 Import the Dataset](#1.2)<br>\n",
    "\n",
    "[2. Exploratory Data Analysis](#2)<br>\n",
    "    \n",
    "- [2.1 Data Exploration](#2.1)<br>\n",
    "    \n",
    "- [2.2 Data Pre-processing](#2.2)<br>\n",
    "   \n",
    "- [2.3 Data Visualization](#2.2)<br>\n",
    "\n",
    "[3. Create the APP and the Notifications System](#3)<br>\n",
    "\n",
    "- [3.1 Email and SMS Notifications](#3.1)<br>\n",
    "    \n",
    "- [3.2 Telegram Notifications](#3.2)<br>\n",
    "    \n",
    "\n",
    "</div>"
   ]
  },
  {
   "cell_type": "markdown",
   "id": "99448772",
   "metadata": {},
   "source": [
    "<a class=\"anchor\" id=\"1\">\n",
    "\n",
    "# 1. Imports\n",
    "\n",
    " </a> "
   ]
  },
  {
   "cell_type": "markdown",
   "id": "15495315",
   "metadata": {},
   "source": [
    "<a class=\"anchor\" id=\"1.1\">\n",
    "\n",
    "## 1.1 Import the needed Libraries\n",
    "\n",
    " </a> "
   ]
  },
  {
   "cell_type": "code",
   "execution_count": 41,
   "id": "39adfdd1",
   "metadata": {},
   "outputs": [],
   "source": [
    "import os \n",
    "import pandas as pd \n",
    "import numpy as np \n",
    "import matplotlib.pyplot as plt\n",
    "    \n",
    "from fmp_python.fmp import FMP                                   # for financial API:  pip install fmp-python\n",
    "import smtplib                                                   # for sending emails\n",
    "from email.message import EmailMessage                           # for sending emails\n",
    "\n",
    "from dash import Dash, dcc, html, Output, Input, State           # pip install dash\n",
    "import plotly.express as px                               \n",
    "from datetime import datetime\n",
    "import plotly.graph_objects as go\n",
    "import plotly.io as pio\n",
    "\n",
    "import telepot                                               \n",
    "import requests \n",
    "from datetime import datetime\n",
    "from timeloop import Timeloop\n",
    "from datetime import timedelta"
   ]
  },
  {
   "cell_type": "markdown",
   "id": "20149f4b",
   "metadata": {},
   "source": [
    "<a class=\"anchor\" id=\"1.2\">\n",
    "\n",
    "## 1.2 Import the Dataset\n",
    "    \n",
    "</a>"
   ]
  },
  {
   "cell_type": "code",
   "execution_count": 42,
   "id": "29aeb61f",
   "metadata": {},
   "outputs": [
    {
     "data": {
      "text/html": [
       "<div>\n",
       "<style scoped>\n",
       "    .dataframe tbody tr th:only-of-type {\n",
       "        vertical-align: middle;\n",
       "    }\n",
       "\n",
       "    .dataframe tbody tr th {\n",
       "        vertical-align: top;\n",
       "    }\n",
       "\n",
       "    .dataframe thead th {\n",
       "        text-align: right;\n",
       "    }\n",
       "</style>\n",
       "<table border=\"1\" class=\"dataframe\">\n",
       "  <thead>\n",
       "    <tr style=\"text-align: right;\">\n",
       "      <th></th>\n",
       "      <th>Symbol</th>\n",
       "      <th>Name</th>\n",
       "      <th>Last Sale</th>\n",
       "      <th>Net Change</th>\n",
       "      <th>% Change</th>\n",
       "      <th>Market Cap</th>\n",
       "      <th>Country</th>\n",
       "      <th>IPO Year</th>\n",
       "      <th>Volume</th>\n",
       "      <th>Sector</th>\n",
       "      <th>Industry</th>\n",
       "    </tr>\n",
       "  </thead>\n",
       "  <tbody>\n",
       "    <tr>\n",
       "      <th>0</th>\n",
       "      <td>AAPL</td>\n",
       "      <td>Apple Inc. Common Stock</td>\n",
       "      <td>$155.00</td>\n",
       "      <td>-0.85</td>\n",
       "      <td>-0.545%</td>\n",
       "      <td>2.687288e+12</td>\n",
       "      <td>United States</td>\n",
       "      <td>1980.0</td>\n",
       "      <td>98873837</td>\n",
       "      <td>Technology</td>\n",
       "      <td>Computer Manufacturing</td>\n",
       "    </tr>\n",
       "    <tr>\n",
       "      <th>1</th>\n",
       "      <td>ACN</td>\n",
       "      <td>Accenture plc Class A Ordinary Shares (Ireland)</td>\n",
       "      <td>$250.00</td>\n",
       "      <td>-2.92</td>\n",
       "      <td>-1.155%</td>\n",
       "      <td>1.574350e+11</td>\n",
       "      <td>Ireland</td>\n",
       "      <td>2001.0</td>\n",
       "      <td>6470849</td>\n",
       "      <td>Technology</td>\n",
       "      <td>EDP Services</td>\n",
       "    </tr>\n",
       "    <tr>\n",
       "      <th>2</th>\n",
       "      <td>ADBE</td>\n",
       "      <td>Adobe Inc. Common Stock</td>\n",
       "      <td>$358.14</td>\n",
       "      <td>4.85</td>\n",
       "      <td>1.373%</td>\n",
       "      <td>1.639565e+11</td>\n",
       "      <td>United States</td>\n",
       "      <td>1986.0</td>\n",
       "      <td>6721421</td>\n",
       "      <td>Technology</td>\n",
       "      <td>Computer Software: Prepackaged Software</td>\n",
       "    </tr>\n",
       "    <tr>\n",
       "      <th>3</th>\n",
       "      <td>ADI</td>\n",
       "      <td>Analog Devices Inc. Common Stock</td>\n",
       "      <td>$185.85</td>\n",
       "      <td>-0.78</td>\n",
       "      <td>-0.418%</td>\n",
       "      <td>9.401269e+10</td>\n",
       "      <td>United States</td>\n",
       "      <td>NaN</td>\n",
       "      <td>6216153</td>\n",
       "      <td>Technology</td>\n",
       "      <td>Semiconductors</td>\n",
       "    </tr>\n",
       "    <tr>\n",
       "      <th>4</th>\n",
       "      <td>ADSK</td>\n",
       "      <td>Autodesk Inc. Common Stock</td>\n",
       "      <td>$199.11</td>\n",
       "      <td>-1.48</td>\n",
       "      <td>-0.738%</td>\n",
       "      <td>4.296147e+10</td>\n",
       "      <td>United States</td>\n",
       "      <td>NaN</td>\n",
       "      <td>2216120</td>\n",
       "      <td>Technology</td>\n",
       "      <td>Computer Software: Prepackaged Software</td>\n",
       "    </tr>\n",
       "    <tr>\n",
       "      <th>...</th>\n",
       "      <td>...</td>\n",
       "      <td>...</td>\n",
       "      <td>...</td>\n",
       "      <td>...</td>\n",
       "      <td>...</td>\n",
       "      <td>...</td>\n",
       "      <td>...</td>\n",
       "      <td>...</td>\n",
       "      <td>...</td>\n",
       "      <td>...</td>\n",
       "      <td>...</td>\n",
       "    </tr>\n",
       "    <tr>\n",
       "      <th>112</th>\n",
       "      <td>WIT</td>\n",
       "      <td>Wipro Limited Common Stock</td>\n",
       "      <td>$4.57</td>\n",
       "      <td>-0.04</td>\n",
       "      <td>-0.868%</td>\n",
       "      <td>2.502846e+10</td>\n",
       "      <td>India</td>\n",
       "      <td>NaN</td>\n",
       "      <td>1817322</td>\n",
       "      <td>Technology</td>\n",
       "      <td>EDP Services</td>\n",
       "    </tr>\n",
       "    <tr>\n",
       "      <th>113</th>\n",
       "      <td>XM</td>\n",
       "      <td>Qualtrics International Inc. Class A Common Stock</td>\n",
       "      <td>$17.65</td>\n",
       "      <td>-0.04</td>\n",
       "      <td>-0.226%</td>\n",
       "      <td>1.048159e+10</td>\n",
       "      <td>United States</td>\n",
       "      <td>2021.0</td>\n",
       "      <td>4275033</td>\n",
       "      <td>Technology</td>\n",
       "      <td>Computer Software: Prepackaged Software</td>\n",
       "    </tr>\n",
       "    <tr>\n",
       "      <th>114</th>\n",
       "      <td>ZBRA</td>\n",
       "      <td>Zebra Technologies Corporation Class A Common ...</td>\n",
       "      <td>$288.71</td>\n",
       "      <td>-6.22</td>\n",
       "      <td>-2.109%</td>\n",
       "      <td>1.484106e+10</td>\n",
       "      <td>United States</td>\n",
       "      <td>1991.0</td>\n",
       "      <td>461456</td>\n",
       "      <td>Technology</td>\n",
       "      <td>Computer peripheral equipment</td>\n",
       "    </tr>\n",
       "    <tr>\n",
       "      <th>115</th>\n",
       "      <td>ZM</td>\n",
       "      <td>Zoom Video Communications Inc. Class A Common ...</td>\n",
       "      <td>$69.19</td>\n",
       "      <td>-1.40</td>\n",
       "      <td>-1.983%</td>\n",
       "      <td>2.022578e+10</td>\n",
       "      <td>United States</td>\n",
       "      <td>2019.0</td>\n",
       "      <td>3762426</td>\n",
       "      <td>Technology</td>\n",
       "      <td>Computer Software: Prepackaged Software</td>\n",
       "    </tr>\n",
       "    <tr>\n",
       "      <th>116</th>\n",
       "      <td>ZS</td>\n",
       "      <td>Zscaler Inc. Common Stock</td>\n",
       "      <td>$105.49</td>\n",
       "      <td>-2.64</td>\n",
       "      <td>-2.442%</td>\n",
       "      <td>1.521295e+10</td>\n",
       "      <td>United States</td>\n",
       "      <td>2018.0</td>\n",
       "      <td>2703078</td>\n",
       "      <td>Technology</td>\n",
       "      <td>EDP Services</td>\n",
       "    </tr>\n",
       "  </tbody>\n",
       "</table>\n",
       "<p>117 rows × 11 columns</p>\n",
       "</div>"
      ],
      "text/plain": [
       "    Symbol                                               Name Last Sale  \\\n",
       "0     AAPL                            Apple Inc. Common Stock   $155.00   \n",
       "1      ACN    Accenture plc Class A Ordinary Shares (Ireland)   $250.00   \n",
       "2     ADBE                            Adobe Inc. Common Stock   $358.14   \n",
       "3      ADI                   Analog Devices Inc. Common Stock   $185.85   \n",
       "4     ADSK                         Autodesk Inc. Common Stock   $199.11   \n",
       "..     ...                                                ...       ...   \n",
       "112    WIT                         Wipro Limited Common Stock     $4.57   \n",
       "113     XM  Qualtrics International Inc. Class A Common Stock    $17.65   \n",
       "114   ZBRA  Zebra Technologies Corporation Class A Common ...   $288.71   \n",
       "115     ZM  Zoom Video Communications Inc. Class A Common ...    $69.19   \n",
       "116     ZS                          Zscaler Inc. Common Stock   $105.49   \n",
       "\n",
       "     Net Change % Change    Market Cap        Country  IPO Year    Volume  \\\n",
       "0         -0.85  -0.545%  2.687288e+12  United States    1980.0  98873837   \n",
       "1         -2.92  -1.155%  1.574350e+11        Ireland    2001.0   6470849   \n",
       "2          4.85   1.373%  1.639565e+11  United States    1986.0   6721421   \n",
       "3         -0.78  -0.418%  9.401269e+10  United States       NaN   6216153   \n",
       "4         -1.48  -0.738%  4.296147e+10  United States       NaN   2216120   \n",
       "..          ...      ...           ...            ...       ...       ...   \n",
       "112       -0.04  -0.868%  2.502846e+10          India       NaN   1817322   \n",
       "113       -0.04  -0.226%  1.048159e+10  United States    2021.0   4275033   \n",
       "114       -6.22  -2.109%  1.484106e+10  United States    1991.0    461456   \n",
       "115       -1.40  -1.983%  2.022578e+10  United States    2019.0   3762426   \n",
       "116       -2.64  -2.442%  1.521295e+10  United States    2018.0   2703078   \n",
       "\n",
       "         Sector                                 Industry  \n",
       "0    Technology                   Computer Manufacturing  \n",
       "1    Technology                             EDP Services  \n",
       "2    Technology  Computer Software: Prepackaged Software  \n",
       "3    Technology                           Semiconductors  \n",
       "4    Technology  Computer Software: Prepackaged Software  \n",
       "..          ...                                      ...  \n",
       "112  Technology                             EDP Services  \n",
       "113  Technology  Computer Software: Prepackaged Software  \n",
       "114  Technology            Computer peripheral equipment  \n",
       "115  Technology  Computer Software: Prepackaged Software  \n",
       "116  Technology                             EDP Services  \n",
       "\n",
       "[117 rows x 11 columns]"
      ]
     },
     "execution_count": 42,
     "metadata": {},
     "output_type": "execute_result"
    }
   ],
   "source": [
    "# Import the dataset and check it\n",
    "\n",
    "ticker_list = pd.read_csv('nasdaq_screener_1679241423896.csv')\n",
    "ticker_list"
   ]
  },
  {
   "cell_type": "markdown",
   "id": "2cf014bb",
   "metadata": {},
   "source": [
    "<a class=\"anchor\" id=\"2\">\n",
    "\n",
    "# 2. Exploratory Data Analysis\n",
    "    \n",
    "</a>"
   ]
  },
  {
   "cell_type": "markdown",
   "id": "069ef70e",
   "metadata": {},
   "source": [
    "<a class=\"anchor\" id=\"2.1\">\n",
    "\n",
    "## 2.1. Data Exploration\n",
    "    \n",
    "</a>"
   ]
  },
  {
   "cell_type": "code",
   "execution_count": 43,
   "id": "928fa9b3",
   "metadata": {},
   "outputs": [
    {
     "data": {
      "text/plain": [
       "(117, 11)"
      ]
     },
     "execution_count": 43,
     "metadata": {},
     "output_type": "execute_result"
    }
   ],
   "source": [
    "# Check the shape of the dataset\n",
    "ticker_list.shape"
   ]
  },
  {
   "cell_type": "code",
   "execution_count": 44,
   "id": "205ffe8b",
   "metadata": {},
   "outputs": [
    {
     "data": {
      "text/plain": [
       "array(['Computer Manufacturing', 'EDP Services',\n",
       "       'Computer Software: Prepackaged Software', 'Semiconductors',\n",
       "       'Computer peripheral equipment', 'Electrical Products',\n",
       "       'Industrial Machinery/Components',\n",
       "       'Computer Software: Programming Data Processing',\n",
       "       'Retail: Computer Software & Peripheral Equipment',\n",
       "       'Security Systems Services', 'Internet and Information Services',\n",
       "       'Electronic Components',\n",
       "       'Radio And Television Broadcasting And Communications Equipment',\n",
       "       'Interactive Media'], dtype=object)"
      ]
     },
     "execution_count": 44,
     "metadata": {},
     "output_type": "execute_result"
    }
   ],
   "source": [
    "# Checking if there are only unique values in \"Industry\"\n",
    "ticker_list['Industry'].unique()"
   ]
  },
  {
   "cell_type": "code",
   "execution_count": 45,
   "id": "2d639695",
   "metadata": {},
   "outputs": [
    {
     "data": {
      "text/plain": [
       "array(['Technology'], dtype=object)"
      ]
     },
     "execution_count": 45,
     "metadata": {},
     "output_type": "execute_result"
    }
   ],
   "source": [
    "# Checking if there are only unique values in \"Sector\"\n",
    "ticker_list['Sector'].unique()"
   ]
  },
  {
   "cell_type": "code",
   "execution_count": 46,
   "id": "ebea3eb9",
   "metadata": {},
   "outputs": [
    {
     "name": "stdout",
     "output_type": "stream",
     "text": [
      "<class 'pandas.core.frame.DataFrame'>\n",
      "RangeIndex: 117 entries, 0 to 116\n",
      "Data columns (total 11 columns):\n",
      " #   Column      Non-Null Count  Dtype  \n",
      "---  ------      --------------  -----  \n",
      " 0   Symbol      117 non-null    object \n",
      " 1   Name        117 non-null    object \n",
      " 2   Last Sale   117 non-null    object \n",
      " 3   Net Change  117 non-null    float64\n",
      " 4   % Change    117 non-null    object \n",
      " 5   Market Cap  117 non-null    float64\n",
      " 6   Country     110 non-null    object \n",
      " 7   IPO Year    80 non-null     float64\n",
      " 8   Volume      117 non-null    int64  \n",
      " 9   Sector      117 non-null    object \n",
      " 10  Industry    117 non-null    object \n",
      "dtypes: float64(3), int64(1), object(7)\n",
      "memory usage: 10.2+ KB\n"
     ]
    }
   ],
   "source": [
    "# Check the information about the dataframe and its features\n",
    "\n",
    "ticker_list.info()"
   ]
  },
  {
   "cell_type": "code",
   "execution_count": 47,
   "id": "ca07a4ad",
   "metadata": {},
   "outputs": [
    {
     "data": {
      "text/html": [
       "<div>\n",
       "<style scoped>\n",
       "    .dataframe tbody tr th:only-of-type {\n",
       "        vertical-align: middle;\n",
       "    }\n",
       "\n",
       "    .dataframe tbody tr th {\n",
       "        vertical-align: top;\n",
       "    }\n",
       "\n",
       "    .dataframe thead th {\n",
       "        text-align: right;\n",
       "    }\n",
       "</style>\n",
       "<table border=\"1\" class=\"dataframe\">\n",
       "  <thead>\n",
       "    <tr style=\"text-align: right;\">\n",
       "      <th></th>\n",
       "      <th>count</th>\n",
       "      <th>unique</th>\n",
       "      <th>top</th>\n",
       "      <th>freq</th>\n",
       "    </tr>\n",
       "  </thead>\n",
       "  <tbody>\n",
       "    <tr>\n",
       "      <th>Symbol</th>\n",
       "      <td>117</td>\n",
       "      <td>117</td>\n",
       "      <td>AAPL</td>\n",
       "      <td>1</td>\n",
       "    </tr>\n",
       "    <tr>\n",
       "      <th>Name</th>\n",
       "      <td>117</td>\n",
       "      <td>117</td>\n",
       "      <td>Apple Inc. Common Stock</td>\n",
       "      <td>1</td>\n",
       "    </tr>\n",
       "    <tr>\n",
       "      <th>Last Sale</th>\n",
       "      <td>117</td>\n",
       "      <td>117</td>\n",
       "      <td>$155.00</td>\n",
       "      <td>1</td>\n",
       "    </tr>\n",
       "    <tr>\n",
       "      <th>% Change</th>\n",
       "      <td>117</td>\n",
       "      <td>111</td>\n",
       "      <td>-0.628%</td>\n",
       "      <td>2</td>\n",
       "    </tr>\n",
       "    <tr>\n",
       "      <th>Country</th>\n",
       "      <td>110</td>\n",
       "      <td>13</td>\n",
       "      <td>United States</td>\n",
       "      <td>91</td>\n",
       "    </tr>\n",
       "    <tr>\n",
       "      <th>Sector</th>\n",
       "      <td>117</td>\n",
       "      <td>1</td>\n",
       "      <td>Technology</td>\n",
       "      <td>117</td>\n",
       "    </tr>\n",
       "    <tr>\n",
       "      <th>Industry</th>\n",
       "      <td>117</td>\n",
       "      <td>14</td>\n",
       "      <td>Computer Software: Prepackaged Software</td>\n",
       "      <td>31</td>\n",
       "    </tr>\n",
       "  </tbody>\n",
       "</table>\n",
       "</div>"
      ],
      "text/plain": [
       "          count unique                                      top freq\n",
       "Symbol      117    117                                     AAPL    1\n",
       "Name        117    117                  Apple Inc. Common Stock    1\n",
       "Last Sale   117    117                                  $155.00    1\n",
       "% Change    117    111                                  -0.628%    2\n",
       "Country     110     13                            United States   91\n",
       "Sector      117      1                               Technology  117\n",
       "Industry    117     14  Computer Software: Prepackaged Software   31"
      ]
     },
     "execution_count": 47,
     "metadata": {},
     "output_type": "execute_result"
    }
   ],
   "source": [
    "# Checking the descriptive statistics of the categorical features\n",
    "ticker_list.describe(include=\"object\").T"
   ]
  },
  {
   "cell_type": "code",
   "execution_count": 48,
   "id": "039abebd",
   "metadata": {},
   "outputs": [
    {
     "data": {
      "text/plain": [
       "United States    91\n",
       "Israel            3\n",
       "Ireland           2\n",
       "Netherlands       2\n",
       "India             2\n",
       "Switzerland       2\n",
       "Taiwan            2\n",
       "China             1\n",
       "Guernsey          1\n",
       "Sweden            1\n",
       "Finland           1\n",
       "Germany           1\n",
       "Australia         1\n",
       "Name: Country, dtype: int64"
      ]
     },
     "execution_count": 48,
     "metadata": {},
     "output_type": "execute_result"
    }
   ],
   "source": [
    "# Checking the top and the meast Country\n",
    "\n",
    "ticker_list[\"Country\"].value_counts() "
   ]
  },
  {
   "cell_type": "code",
   "execution_count": 49,
   "id": "7c7f2512",
   "metadata": {},
   "outputs": [
    {
     "data": {
      "text/plain": [
       "dtype('O')"
      ]
     },
     "execution_count": 49,
     "metadata": {},
     "output_type": "execute_result"
    }
   ],
   "source": [
    "ticker_list['Last Sale'].dtype"
   ]
  },
  {
   "cell_type": "markdown",
   "id": "896bfcd7",
   "metadata": {},
   "source": [
    "<a class=\"anchor\" id=\"2.2\">\n",
    "\n",
    "## 2.2 Data Pre-processing \n",
    "    \n",
    "</a>"
   ]
  },
  {
   "cell_type": "code",
   "execution_count": 50,
   "id": "2cce5f4b",
   "metadata": {},
   "outputs": [
    {
     "data": {
      "text/html": [
       "<div>\n",
       "<style scoped>\n",
       "    .dataframe tbody tr th:only-of-type {\n",
       "        vertical-align: middle;\n",
       "    }\n",
       "\n",
       "    .dataframe tbody tr th {\n",
       "        vertical-align: top;\n",
       "    }\n",
       "\n",
       "    .dataframe thead th {\n",
       "        text-align: right;\n",
       "    }\n",
       "</style>\n",
       "<table border=\"1\" class=\"dataframe\">\n",
       "  <thead>\n",
       "    <tr style=\"text-align: right;\">\n",
       "      <th></th>\n",
       "      <th>Symbol</th>\n",
       "      <th>Name</th>\n",
       "      <th>Last Sale($)</th>\n",
       "      <th>Net Change</th>\n",
       "      <th>% Change</th>\n",
       "      <th>Market Cap</th>\n",
       "      <th>Country</th>\n",
       "      <th>IPO Year</th>\n",
       "      <th>Volume</th>\n",
       "      <th>Sector</th>\n",
       "      <th>Industry</th>\n",
       "    </tr>\n",
       "  </thead>\n",
       "  <tbody>\n",
       "    <tr>\n",
       "      <th>0</th>\n",
       "      <td>AAPL</td>\n",
       "      <td>Apple Inc. Common Stock</td>\n",
       "      <td>$155.00</td>\n",
       "      <td>-0.85</td>\n",
       "      <td>-0.545%</td>\n",
       "      <td>2.687288e+12</td>\n",
       "      <td>United States</td>\n",
       "      <td>1980.0</td>\n",
       "      <td>98873837</td>\n",
       "      <td>Technology</td>\n",
       "      <td>Computer Manufacturing</td>\n",
       "    </tr>\n",
       "    <tr>\n",
       "      <th>1</th>\n",
       "      <td>ACN</td>\n",
       "      <td>Accenture plc Class A Ordinary Shares (Ireland)</td>\n",
       "      <td>$250.00</td>\n",
       "      <td>-2.92</td>\n",
       "      <td>-1.155%</td>\n",
       "      <td>1.574350e+11</td>\n",
       "      <td>Ireland</td>\n",
       "      <td>2001.0</td>\n",
       "      <td>6470849</td>\n",
       "      <td>Technology</td>\n",
       "      <td>EDP Services</td>\n",
       "    </tr>\n",
       "    <tr>\n",
       "      <th>2</th>\n",
       "      <td>ADBE</td>\n",
       "      <td>Adobe Inc. Common Stock</td>\n",
       "      <td>$358.14</td>\n",
       "      <td>4.85</td>\n",
       "      <td>1.373%</td>\n",
       "      <td>1.639565e+11</td>\n",
       "      <td>United States</td>\n",
       "      <td>1986.0</td>\n",
       "      <td>6721421</td>\n",
       "      <td>Technology</td>\n",
       "      <td>Computer Software: Prepackaged Software</td>\n",
       "    </tr>\n",
       "    <tr>\n",
       "      <th>3</th>\n",
       "      <td>ADI</td>\n",
       "      <td>Analog Devices Inc. Common Stock</td>\n",
       "      <td>$185.85</td>\n",
       "      <td>-0.78</td>\n",
       "      <td>-0.418%</td>\n",
       "      <td>9.401269e+10</td>\n",
       "      <td>United States</td>\n",
       "      <td>NaN</td>\n",
       "      <td>6216153</td>\n",
       "      <td>Technology</td>\n",
       "      <td>Semiconductors</td>\n",
       "    </tr>\n",
       "    <tr>\n",
       "      <th>4</th>\n",
       "      <td>ADSK</td>\n",
       "      <td>Autodesk Inc. Common Stock</td>\n",
       "      <td>$199.11</td>\n",
       "      <td>-1.48</td>\n",
       "      <td>-0.738%</td>\n",
       "      <td>4.296147e+10</td>\n",
       "      <td>United States</td>\n",
       "      <td>NaN</td>\n",
       "      <td>2216120</td>\n",
       "      <td>Technology</td>\n",
       "      <td>Computer Software: Prepackaged Software</td>\n",
       "    </tr>\n",
       "    <tr>\n",
       "      <th>...</th>\n",
       "      <td>...</td>\n",
       "      <td>...</td>\n",
       "      <td>...</td>\n",
       "      <td>...</td>\n",
       "      <td>...</td>\n",
       "      <td>...</td>\n",
       "      <td>...</td>\n",
       "      <td>...</td>\n",
       "      <td>...</td>\n",
       "      <td>...</td>\n",
       "      <td>...</td>\n",
       "    </tr>\n",
       "    <tr>\n",
       "      <th>112</th>\n",
       "      <td>WIT</td>\n",
       "      <td>Wipro Limited Common Stock</td>\n",
       "      <td>$4.57</td>\n",
       "      <td>-0.04</td>\n",
       "      <td>-0.868%</td>\n",
       "      <td>2.502846e+10</td>\n",
       "      <td>India</td>\n",
       "      <td>NaN</td>\n",
       "      <td>1817322</td>\n",
       "      <td>Technology</td>\n",
       "      <td>EDP Services</td>\n",
       "    </tr>\n",
       "    <tr>\n",
       "      <th>113</th>\n",
       "      <td>XM</td>\n",
       "      <td>Qualtrics International Inc. Class A Common Stock</td>\n",
       "      <td>$17.65</td>\n",
       "      <td>-0.04</td>\n",
       "      <td>-0.226%</td>\n",
       "      <td>1.048159e+10</td>\n",
       "      <td>United States</td>\n",
       "      <td>2021.0</td>\n",
       "      <td>4275033</td>\n",
       "      <td>Technology</td>\n",
       "      <td>Computer Software: Prepackaged Software</td>\n",
       "    </tr>\n",
       "    <tr>\n",
       "      <th>114</th>\n",
       "      <td>ZBRA</td>\n",
       "      <td>Zebra Technologies Corporation Class A Common ...</td>\n",
       "      <td>$288.71</td>\n",
       "      <td>-6.22</td>\n",
       "      <td>-2.109%</td>\n",
       "      <td>1.484106e+10</td>\n",
       "      <td>United States</td>\n",
       "      <td>1991.0</td>\n",
       "      <td>461456</td>\n",
       "      <td>Technology</td>\n",
       "      <td>Computer peripheral equipment</td>\n",
       "    </tr>\n",
       "    <tr>\n",
       "      <th>115</th>\n",
       "      <td>ZM</td>\n",
       "      <td>Zoom Video Communications Inc. Class A Common ...</td>\n",
       "      <td>$69.19</td>\n",
       "      <td>-1.40</td>\n",
       "      <td>-1.983%</td>\n",
       "      <td>2.022578e+10</td>\n",
       "      <td>United States</td>\n",
       "      <td>2019.0</td>\n",
       "      <td>3762426</td>\n",
       "      <td>Technology</td>\n",
       "      <td>Computer Software: Prepackaged Software</td>\n",
       "    </tr>\n",
       "    <tr>\n",
       "      <th>116</th>\n",
       "      <td>ZS</td>\n",
       "      <td>Zscaler Inc. Common Stock</td>\n",
       "      <td>$105.49</td>\n",
       "      <td>-2.64</td>\n",
       "      <td>-2.442%</td>\n",
       "      <td>1.521295e+10</td>\n",
       "      <td>United States</td>\n",
       "      <td>2018.0</td>\n",
       "      <td>2703078</td>\n",
       "      <td>Technology</td>\n",
       "      <td>EDP Services</td>\n",
       "    </tr>\n",
       "  </tbody>\n",
       "</table>\n",
       "<p>117 rows × 11 columns</p>\n",
       "</div>"
      ],
      "text/plain": [
       "    Symbol                                               Name Last Sale($)  \\\n",
       "0     AAPL                            Apple Inc. Common Stock      $155.00   \n",
       "1      ACN    Accenture plc Class A Ordinary Shares (Ireland)      $250.00   \n",
       "2     ADBE                            Adobe Inc. Common Stock      $358.14   \n",
       "3      ADI                   Analog Devices Inc. Common Stock      $185.85   \n",
       "4     ADSK                         Autodesk Inc. Common Stock      $199.11   \n",
       "..     ...                                                ...          ...   \n",
       "112    WIT                         Wipro Limited Common Stock        $4.57   \n",
       "113     XM  Qualtrics International Inc. Class A Common Stock       $17.65   \n",
       "114   ZBRA  Zebra Technologies Corporation Class A Common ...      $288.71   \n",
       "115     ZM  Zoom Video Communications Inc. Class A Common ...       $69.19   \n",
       "116     ZS                          Zscaler Inc. Common Stock      $105.49   \n",
       "\n",
       "     Net Change % Change    Market Cap        Country  IPO Year    Volume  \\\n",
       "0         -0.85  -0.545%  2.687288e+12  United States    1980.0  98873837   \n",
       "1         -2.92  -1.155%  1.574350e+11        Ireland    2001.0   6470849   \n",
       "2          4.85   1.373%  1.639565e+11  United States    1986.0   6721421   \n",
       "3         -0.78  -0.418%  9.401269e+10  United States       NaN   6216153   \n",
       "4         -1.48  -0.738%  4.296147e+10  United States       NaN   2216120   \n",
       "..          ...      ...           ...            ...       ...       ...   \n",
       "112       -0.04  -0.868%  2.502846e+10          India       NaN   1817322   \n",
       "113       -0.04  -0.226%  1.048159e+10  United States    2021.0   4275033   \n",
       "114       -6.22  -2.109%  1.484106e+10  United States    1991.0    461456   \n",
       "115       -1.40  -1.983%  2.022578e+10  United States    2019.0   3762426   \n",
       "116       -2.64  -2.442%  1.521295e+10  United States    2018.0   2703078   \n",
       "\n",
       "         Sector                                 Industry  \n",
       "0    Technology                   Computer Manufacturing  \n",
       "1    Technology                             EDP Services  \n",
       "2    Technology  Computer Software: Prepackaged Software  \n",
       "3    Technology                           Semiconductors  \n",
       "4    Technology  Computer Software: Prepackaged Software  \n",
       "..          ...                                      ...  \n",
       "112  Technology                             EDP Services  \n",
       "113  Technology  Computer Software: Prepackaged Software  \n",
       "114  Technology            Computer peripheral equipment  \n",
       "115  Technology  Computer Software: Prepackaged Software  \n",
       "116  Technology                             EDP Services  \n",
       "\n",
       "[117 rows x 11 columns]"
      ]
     },
     "execution_count": 50,
     "metadata": {},
     "output_type": "execute_result"
    }
   ],
   "source": [
    "# Rename a column \n",
    "ticker_list = ticker_list.rename(columns={'Last Sale': 'Last Sale($)'})\n",
    "ticker_list"
   ]
  },
  {
   "cell_type": "code",
   "execution_count": 51,
   "id": "a5d63469",
   "metadata": {},
   "outputs": [
    {
     "name": "stderr",
     "output_type": "stream",
     "text": [
      "C:\\Users\\jcamillius\\AppData\\Local\\Temp\\ipykernel_11012\\3101257398.py:2: FutureWarning:\n",
      "\n",
      "The default value of regex will change from True to False in a future version. In addition, single character regular expressions will *not* be treated as literal strings when regex=True.\n",
      "\n"
     ]
    },
    {
     "data": {
      "text/html": [
       "<div>\n",
       "<style scoped>\n",
       "    .dataframe tbody tr th:only-of-type {\n",
       "        vertical-align: middle;\n",
       "    }\n",
       "\n",
       "    .dataframe tbody tr th {\n",
       "        vertical-align: top;\n",
       "    }\n",
       "\n",
       "    .dataframe thead th {\n",
       "        text-align: right;\n",
       "    }\n",
       "</style>\n",
       "<table border=\"1\" class=\"dataframe\">\n",
       "  <thead>\n",
       "    <tr style=\"text-align: right;\">\n",
       "      <th></th>\n",
       "      <th>Symbol</th>\n",
       "      <th>Name</th>\n",
       "      <th>Last Sale($)</th>\n",
       "      <th>Net Change</th>\n",
       "      <th>% Change</th>\n",
       "      <th>Market Cap</th>\n",
       "      <th>Country</th>\n",
       "      <th>IPO Year</th>\n",
       "      <th>Volume</th>\n",
       "      <th>Sector</th>\n",
       "      <th>Industry</th>\n",
       "    </tr>\n",
       "  </thead>\n",
       "  <tbody>\n",
       "    <tr>\n",
       "      <th>0</th>\n",
       "      <td>AAPL</td>\n",
       "      <td>Apple Inc. Common Stock</td>\n",
       "      <td>155.00</td>\n",
       "      <td>-0.85</td>\n",
       "      <td>-0.545</td>\n",
       "      <td>2.687288e+12</td>\n",
       "      <td>United States</td>\n",
       "      <td>1980.0</td>\n",
       "      <td>98873837</td>\n",
       "      <td>Technology</td>\n",
       "      <td>Computer Manufacturing</td>\n",
       "    </tr>\n",
       "    <tr>\n",
       "      <th>1</th>\n",
       "      <td>ACN</td>\n",
       "      <td>Accenture plc Class A Ordinary Shares (Ireland)</td>\n",
       "      <td>250.00</td>\n",
       "      <td>-2.92</td>\n",
       "      <td>-1.155</td>\n",
       "      <td>1.574350e+11</td>\n",
       "      <td>Ireland</td>\n",
       "      <td>2001.0</td>\n",
       "      <td>6470849</td>\n",
       "      <td>Technology</td>\n",
       "      <td>EDP Services</td>\n",
       "    </tr>\n",
       "    <tr>\n",
       "      <th>2</th>\n",
       "      <td>ADBE</td>\n",
       "      <td>Adobe Inc. Common Stock</td>\n",
       "      <td>358.14</td>\n",
       "      <td>4.85</td>\n",
       "      <td>1.373</td>\n",
       "      <td>1.639565e+11</td>\n",
       "      <td>United States</td>\n",
       "      <td>1986.0</td>\n",
       "      <td>6721421</td>\n",
       "      <td>Technology</td>\n",
       "      <td>Computer Software: Prepackaged Software</td>\n",
       "    </tr>\n",
       "    <tr>\n",
       "      <th>3</th>\n",
       "      <td>ADI</td>\n",
       "      <td>Analog Devices Inc. Common Stock</td>\n",
       "      <td>185.85</td>\n",
       "      <td>-0.78</td>\n",
       "      <td>-0.418</td>\n",
       "      <td>9.401269e+10</td>\n",
       "      <td>United States</td>\n",
       "      <td>NaN</td>\n",
       "      <td>6216153</td>\n",
       "      <td>Technology</td>\n",
       "      <td>Semiconductors</td>\n",
       "    </tr>\n",
       "    <tr>\n",
       "      <th>4</th>\n",
       "      <td>ADSK</td>\n",
       "      <td>Autodesk Inc. Common Stock</td>\n",
       "      <td>199.11</td>\n",
       "      <td>-1.48</td>\n",
       "      <td>-0.738</td>\n",
       "      <td>4.296147e+10</td>\n",
       "      <td>United States</td>\n",
       "      <td>NaN</td>\n",
       "      <td>2216120</td>\n",
       "      <td>Technology</td>\n",
       "      <td>Computer Software: Prepackaged Software</td>\n",
       "    </tr>\n",
       "    <tr>\n",
       "      <th>...</th>\n",
       "      <td>...</td>\n",
       "      <td>...</td>\n",
       "      <td>...</td>\n",
       "      <td>...</td>\n",
       "      <td>...</td>\n",
       "      <td>...</td>\n",
       "      <td>...</td>\n",
       "      <td>...</td>\n",
       "      <td>...</td>\n",
       "      <td>...</td>\n",
       "      <td>...</td>\n",
       "    </tr>\n",
       "    <tr>\n",
       "      <th>112</th>\n",
       "      <td>WIT</td>\n",
       "      <td>Wipro Limited Common Stock</td>\n",
       "      <td>4.57</td>\n",
       "      <td>-0.04</td>\n",
       "      <td>-0.868</td>\n",
       "      <td>2.502846e+10</td>\n",
       "      <td>India</td>\n",
       "      <td>NaN</td>\n",
       "      <td>1817322</td>\n",
       "      <td>Technology</td>\n",
       "      <td>EDP Services</td>\n",
       "    </tr>\n",
       "    <tr>\n",
       "      <th>113</th>\n",
       "      <td>XM</td>\n",
       "      <td>Qualtrics International Inc. Class A Common Stock</td>\n",
       "      <td>17.65</td>\n",
       "      <td>-0.04</td>\n",
       "      <td>-0.226</td>\n",
       "      <td>1.048159e+10</td>\n",
       "      <td>United States</td>\n",
       "      <td>2021.0</td>\n",
       "      <td>4275033</td>\n",
       "      <td>Technology</td>\n",
       "      <td>Computer Software: Prepackaged Software</td>\n",
       "    </tr>\n",
       "    <tr>\n",
       "      <th>114</th>\n",
       "      <td>ZBRA</td>\n",
       "      <td>Zebra Technologies Corporation Class A Common ...</td>\n",
       "      <td>288.71</td>\n",
       "      <td>-6.22</td>\n",
       "      <td>-2.109</td>\n",
       "      <td>1.484106e+10</td>\n",
       "      <td>United States</td>\n",
       "      <td>1991.0</td>\n",
       "      <td>461456</td>\n",
       "      <td>Technology</td>\n",
       "      <td>Computer peripheral equipment</td>\n",
       "    </tr>\n",
       "    <tr>\n",
       "      <th>115</th>\n",
       "      <td>ZM</td>\n",
       "      <td>Zoom Video Communications Inc. Class A Common ...</td>\n",
       "      <td>69.19</td>\n",
       "      <td>-1.40</td>\n",
       "      <td>-1.983</td>\n",
       "      <td>2.022578e+10</td>\n",
       "      <td>United States</td>\n",
       "      <td>2019.0</td>\n",
       "      <td>3762426</td>\n",
       "      <td>Technology</td>\n",
       "      <td>Computer Software: Prepackaged Software</td>\n",
       "    </tr>\n",
       "    <tr>\n",
       "      <th>116</th>\n",
       "      <td>ZS</td>\n",
       "      <td>Zscaler Inc. Common Stock</td>\n",
       "      <td>105.49</td>\n",
       "      <td>-2.64</td>\n",
       "      <td>-2.442</td>\n",
       "      <td>1.521295e+10</td>\n",
       "      <td>United States</td>\n",
       "      <td>2018.0</td>\n",
       "      <td>2703078</td>\n",
       "      <td>Technology</td>\n",
       "      <td>EDP Services</td>\n",
       "    </tr>\n",
       "  </tbody>\n",
       "</table>\n",
       "<p>117 rows × 11 columns</p>\n",
       "</div>"
      ],
      "text/plain": [
       "    Symbol                                               Name Last Sale($)  \\\n",
       "0     AAPL                            Apple Inc. Common Stock       155.00   \n",
       "1      ACN    Accenture plc Class A Ordinary Shares (Ireland)       250.00   \n",
       "2     ADBE                            Adobe Inc. Common Stock       358.14   \n",
       "3      ADI                   Analog Devices Inc. Common Stock       185.85   \n",
       "4     ADSK                         Autodesk Inc. Common Stock       199.11   \n",
       "..     ...                                                ...          ...   \n",
       "112    WIT                         Wipro Limited Common Stock         4.57   \n",
       "113     XM  Qualtrics International Inc. Class A Common Stock        17.65   \n",
       "114   ZBRA  Zebra Technologies Corporation Class A Common ...       288.71   \n",
       "115     ZM  Zoom Video Communications Inc. Class A Common ...        69.19   \n",
       "116     ZS                          Zscaler Inc. Common Stock       105.49   \n",
       "\n",
       "     Net Change % Change    Market Cap        Country  IPO Year    Volume  \\\n",
       "0         -0.85   -0.545  2.687288e+12  United States    1980.0  98873837   \n",
       "1         -2.92   -1.155  1.574350e+11        Ireland    2001.0   6470849   \n",
       "2          4.85    1.373  1.639565e+11  United States    1986.0   6721421   \n",
       "3         -0.78   -0.418  9.401269e+10  United States       NaN   6216153   \n",
       "4         -1.48   -0.738  4.296147e+10  United States       NaN   2216120   \n",
       "..          ...      ...           ...            ...       ...       ...   \n",
       "112       -0.04   -0.868  2.502846e+10          India       NaN   1817322   \n",
       "113       -0.04   -0.226  1.048159e+10  United States    2021.0   4275033   \n",
       "114       -6.22   -2.109  1.484106e+10  United States    1991.0    461456   \n",
       "115       -1.40   -1.983  2.022578e+10  United States    2019.0   3762426   \n",
       "116       -2.64   -2.442  1.521295e+10  United States    2018.0   2703078   \n",
       "\n",
       "         Sector                                 Industry  \n",
       "0    Technology                   Computer Manufacturing  \n",
       "1    Technology                             EDP Services  \n",
       "2    Technology  Computer Software: Prepackaged Software  \n",
       "3    Technology                           Semiconductors  \n",
       "4    Technology  Computer Software: Prepackaged Software  \n",
       "..          ...                                      ...  \n",
       "112  Technology                             EDP Services  \n",
       "113  Technology  Computer Software: Prepackaged Software  \n",
       "114  Technology            Computer peripheral equipment  \n",
       "115  Technology  Computer Software: Prepackaged Software  \n",
       "116  Technology                             EDP Services  \n",
       "\n",
       "[117 rows x 11 columns]"
      ]
     },
     "execution_count": 51,
     "metadata": {},
     "output_type": "execute_result"
    }
   ],
   "source": [
    "# Remove the '$' sign from the 'Last Sale($)' column\n",
    "ticker_list['Last Sale($)'] = ticker_list['Last Sale($)'].str.replace('$', '')\n",
    "\n",
    "# Remove the '%' sign from the '% Change' column\n",
    "ticker_list['% Change'] = ticker_list['% Change'].str.replace('%', '')\n",
    "\n",
    "ticker_list"
   ]
  },
  {
   "cell_type": "code",
   "execution_count": 52,
   "id": "e0c48aea",
   "metadata": {},
   "outputs": [],
   "source": [
    "# Convert the '% Change' column to a numeric data type\n",
    "ticker_list['% Change'] = pd.to_numeric(ticker_list['% Change'], errors='coerce')"
   ]
  },
  {
   "cell_type": "markdown",
   "id": "c3ac239b",
   "metadata": {},
   "source": [
    "<a class=\"anchor\" id=\"2.3\">\n",
    "\n",
    "## 2.3 Data Visualization\n",
    "    \n",
    "</a>"
   ]
  },
  {
   "cell_type": "code",
   "execution_count": 53,
   "id": "62ed6d01",
   "metadata": {},
   "outputs": [],
   "source": [
    "data_choropleth = dict(type='choropleth',\n",
    "                       locations=ticker_list['Country'],  #There are three ways to 'merge' your data with the data pre embedded in the map\n",
    "                       locationmode='country names',\n",
    "                       z=np.log(ticker_list['Volume']),\n",
    "                       text=ticker_list['Country'],\n",
    "                       colorscale='inferno'\n",
    "                      )\n",
    "\n",
    "layout_choropleth = dict(geo=dict(scope='world',  #default\n",
    "                                  projection=dict(type='orthographic'\n",
    "                                                 ),\n",
    "                                  #showland=True,   # default = True\n",
    "                                  landcolor='black',\n",
    "                                  lakecolor='white',\n",
    "                                  showocean=True,   # default = False\n",
    "                                  oceancolor='azure'\n",
    "                                 ),\n",
    "                         \n",
    "                         title=dict(text='World Stock Trade Map',\n",
    "                                    x=.5 # Title relative position according to the xaxis, range (0,1)\n",
    "                                   )\n",
    "                        )"
   ]
  },
  {
   "cell_type": "code",
   "execution_count": 54,
   "id": "806bd151",
   "metadata": {},
   "outputs": [
    {
     "data": {
      "application/vnd.plotly.v1+json": {
       "config": {
        "plotlyServerURL": "https://plot.ly"
       },
       "data": [
        {
         "colorscale": [
          [
           0,
           "#000004"
          ],
          [
           0.1111111111111111,
           "#1b0c41"
          ],
          [
           0.2222222222222222,
           "#4a0c6b"
          ],
          [
           0.3333333333333333,
           "#781c6d"
          ],
          [
           0.4444444444444444,
           "#a52c60"
          ],
          [
           0.5555555555555556,
           "#cf4446"
          ],
          [
           0.6666666666666666,
           "#ed6925"
          ],
          [
           0.7777777777777778,
           "#fb9b06"
          ],
          [
           0.8888888888888888,
           "#f7d13d"
          ],
          [
           1,
           "#fcffa4"
          ]
         ],
         "locationmode": "country names",
         "locations": [
          "United States",
          "Ireland",
          "United States",
          "United States",
          "United States",
          "United States",
          "United States",
          null,
          "United States",
          "United States",
          "Netherlands",
          null,
          "United States",
          "United States",
          "China",
          "United States",
          "United States",
          "United States",
          "Israel",
          "United States",
          "United States",
          "United States",
          "United States",
          null,
          "United States",
          "Guernsey",
          "United States",
          "United States",
          "United States",
          "United States",
          "Sweden",
          "United States",
          "United States",
          "United States",
          "United States",
          "United States",
          "United States",
          "United States",
          "United States",
          "United States",
          "United States",
          "United States",
          "United States",
          "United States",
          "United States",
          "United States",
          "India",
          "United States",
          "United States",
          "United States",
          "United States",
          "United States",
          "United States",
          "United States",
          "United States",
          "United States",
          "United States",
          "United States",
          "United States",
          "United States",
          "United States",
          "United States",
          "United States",
          "United States",
          "United States",
          "United States",
          "Israel",
          "United States",
          "Finland",
          "United States",
          "United States",
          "United States",
          "Netherlands",
          "United States",
          "United States",
          "United States",
          "United States",
          null,
          "United States",
          null,
          null,
          "United States",
          "United States",
          "United States",
          "United States",
          "Germany",
          "United States",
          "Israel",
          "United States",
          "United States",
          "United States",
          "United States",
          "United States",
          "United States",
          "Switzerland",
          "Ireland",
          "United States",
          "Australia",
          "Switzerland",
          "Taiwan",
          "United States",
          "United States",
          "United States",
          "United States",
          "United States",
          null,
          "United States",
          "Taiwan",
          "United States",
          "United States",
          "United States",
          "United States",
          "India",
          "United States",
          "United States",
          "United States",
          "United States"
         ],
         "text": [
          "United States",
          "Ireland",
          "United States",
          "United States",
          "United States",
          "United States",
          "United States",
          null,
          "United States",
          "United States",
          "Netherlands",
          null,
          "United States",
          "United States",
          "China",
          "United States",
          "United States",
          "United States",
          "Israel",
          "United States",
          "United States",
          "United States",
          "United States",
          null,
          "United States",
          "Guernsey",
          "United States",
          "United States",
          "United States",
          "United States",
          "Sweden",
          "United States",
          "United States",
          "United States",
          "United States",
          "United States",
          "United States",
          "United States",
          "United States",
          "United States",
          "United States",
          "United States",
          "United States",
          "United States",
          "United States",
          "United States",
          "India",
          "United States",
          "United States",
          "United States",
          "United States",
          "United States",
          "United States",
          "United States",
          "United States",
          "United States",
          "United States",
          "United States",
          "United States",
          "United States",
          "United States",
          "United States",
          "United States",
          "United States",
          "United States",
          "United States",
          "Israel",
          "United States",
          "Finland",
          "United States",
          "United States",
          "United States",
          "Netherlands",
          "United States",
          "United States",
          "United States",
          "United States",
          null,
          "United States",
          null,
          null,
          "United States",
          "United States",
          "United States",
          "United States",
          "Germany",
          "United States",
          "Israel",
          "United States",
          "United States",
          "United States",
          "United States",
          "United States",
          "United States",
          "Switzerland",
          "Ireland",
          "United States",
          "Australia",
          "Switzerland",
          "Taiwan",
          "United States",
          "United States",
          "United States",
          "United States",
          "United States",
          null,
          "United States",
          "Taiwan",
          "United States",
          "United States",
          "United States",
          "United States",
          "India",
          "United States",
          "United States",
          "United States",
          "United States"
         ],
         "type": "choropleth",
         "z": [
          18.409355221656746,
          15.682817878888452,
          15.720810148478504,
          15.642661784626318,
          14.611268477007714,
          16.43700884014619,
          18.35895894545767,
          15.350370172274117,
          13.863057092003368,
          15.369090457729023,
          13.918587768864654,
          15.906778639612709,
          15.88612450079143,
          12.92254809375093,
          15.854552802233176,
          13.857203213349333,
          14.511623336787505,
          15.328342411305062,
          13.8671404956811,
          16.165954047834067,
          15.560672183132057,
          15.77867232415078,
          15.372198958345624,
          16.417263953374057,
          15.15241743905713,
          13.983756009590984,
          14.80148741430333,
          15.980348297934622,
          14.158476663701803,
          13.713912953666975,
          15.806912921920944,
          15.454513874559874,
          14.051432911480012,
          15.556609690339624,
          15.919276107722819,
          14.726813270327275,
          15.573629303567019,
          16.493151309793987,
          14.505574490195437,
          15.710117337393312,
          18.147701230562674,
          17.92609841402805,
          16.992199665835315,
          13.228759156991478,
          12.912259439597923,
          17.437178080561516,
          16.563495960501957,
          18.205116286110982,
          14.954714094532685,
          14.943861244396173,
          14.329639918377511,
          15.697902617445543,
          14.925228615320652,
          14.520207779257978,
          14.347685259713774,
          14.617119689754814,
          15.988240919694805,
          14.330190544122864,
          17.729149297390954,
          13.442816562826653,
          16.535624827997857,
          18.05674321977769,
          14.204668761611295,
          15.243608591600864,
          17.09840345553944,
          15.742116721095417,
          12.404931700963058,
          14.285049079063983,
          16.643944557952505,
          14.8862091937236,
          15.854316155523739,
          18.255215537262888,
          14.891698625961252,
          14.919954807640309,
          15.75859586376128,
          16.3855112130368,
          15.143791728261732,
          13.375997335716537,
          13.664585337412676,
          16.118294131259802,
          16.85458958814267,
          14.264068360601003,
          16.324813353636507,
          16.426324191635068,
          14.311575375069001,
          13.854984123763016,
          15.036533676032187,
          14.668328866882856,
          17.354525529204082,
          15.503224202505038,
          14.310673154454777,
          14.771693700429392,
          16.093139931258307,
          14.363083839401147,
          15.407107054668922,
          15.570137745081349,
          14.727106687416546,
          15.017046094564764,
          14.974000208927798,
          16.40202486523879,
          15.355646193907774,
          14.857629740837712,
          16.37763516032828,
          13.212255268393859,
          16.063742627739447,
          17.114819795709252,
          11.305642959587018,
          15.714648455494265,
          14.575970532804844,
          13.749622860430737,
          14.807535652986733,
          15.658602987459846,
          14.412874546867425,
          15.26830237962145,
          13.042141987101335,
          15.140574520071768,
          14.809901681667984
         ]
        }
       ],
       "layout": {
        "geo": {
         "lakecolor": "white",
         "landcolor": "black",
         "oceancolor": "azure",
         "projection": {
          "type": "orthographic"
         },
         "scope": "world",
         "showocean": true
        },
        "template": {
         "data": {
          "bar": [
           {
            "error_x": {
             "color": "#2a3f5f"
            },
            "error_y": {
             "color": "#2a3f5f"
            },
            "marker": {
             "line": {
              "color": "#E5ECF6",
              "width": 0.5
             },
             "pattern": {
              "fillmode": "overlay",
              "size": 10,
              "solidity": 0.2
             }
            },
            "type": "bar"
           }
          ],
          "barpolar": [
           {
            "marker": {
             "line": {
              "color": "#E5ECF6",
              "width": 0.5
             },
             "pattern": {
              "fillmode": "overlay",
              "size": 10,
              "solidity": 0.2
             }
            },
            "type": "barpolar"
           }
          ],
          "carpet": [
           {
            "aaxis": {
             "endlinecolor": "#2a3f5f",
             "gridcolor": "white",
             "linecolor": "white",
             "minorgridcolor": "white",
             "startlinecolor": "#2a3f5f"
            },
            "baxis": {
             "endlinecolor": "#2a3f5f",
             "gridcolor": "white",
             "linecolor": "white",
             "minorgridcolor": "white",
             "startlinecolor": "#2a3f5f"
            },
            "type": "carpet"
           }
          ],
          "choropleth": [
           {
            "colorbar": {
             "outlinewidth": 0,
             "ticks": ""
            },
            "type": "choropleth"
           }
          ],
          "contour": [
           {
            "colorbar": {
             "outlinewidth": 0,
             "ticks": ""
            },
            "colorscale": [
             [
              0,
              "#0d0887"
             ],
             [
              0.1111111111111111,
              "#46039f"
             ],
             [
              0.2222222222222222,
              "#7201a8"
             ],
             [
              0.3333333333333333,
              "#9c179e"
             ],
             [
              0.4444444444444444,
              "#bd3786"
             ],
             [
              0.5555555555555556,
              "#d8576b"
             ],
             [
              0.6666666666666666,
              "#ed7953"
             ],
             [
              0.7777777777777778,
              "#fb9f3a"
             ],
             [
              0.8888888888888888,
              "#fdca26"
             ],
             [
              1,
              "#f0f921"
             ]
            ],
            "type": "contour"
           }
          ],
          "contourcarpet": [
           {
            "colorbar": {
             "outlinewidth": 0,
             "ticks": ""
            },
            "type": "contourcarpet"
           }
          ],
          "heatmap": [
           {
            "colorbar": {
             "outlinewidth": 0,
             "ticks": ""
            },
            "colorscale": [
             [
              0,
              "#0d0887"
             ],
             [
              0.1111111111111111,
              "#46039f"
             ],
             [
              0.2222222222222222,
              "#7201a8"
             ],
             [
              0.3333333333333333,
              "#9c179e"
             ],
             [
              0.4444444444444444,
              "#bd3786"
             ],
             [
              0.5555555555555556,
              "#d8576b"
             ],
             [
              0.6666666666666666,
              "#ed7953"
             ],
             [
              0.7777777777777778,
              "#fb9f3a"
             ],
             [
              0.8888888888888888,
              "#fdca26"
             ],
             [
              1,
              "#f0f921"
             ]
            ],
            "type": "heatmap"
           }
          ],
          "heatmapgl": [
           {
            "colorbar": {
             "outlinewidth": 0,
             "ticks": ""
            },
            "colorscale": [
             [
              0,
              "#0d0887"
             ],
             [
              0.1111111111111111,
              "#46039f"
             ],
             [
              0.2222222222222222,
              "#7201a8"
             ],
             [
              0.3333333333333333,
              "#9c179e"
             ],
             [
              0.4444444444444444,
              "#bd3786"
             ],
             [
              0.5555555555555556,
              "#d8576b"
             ],
             [
              0.6666666666666666,
              "#ed7953"
             ],
             [
              0.7777777777777778,
              "#fb9f3a"
             ],
             [
              0.8888888888888888,
              "#fdca26"
             ],
             [
              1,
              "#f0f921"
             ]
            ],
            "type": "heatmapgl"
           }
          ],
          "histogram": [
           {
            "marker": {
             "pattern": {
              "fillmode": "overlay",
              "size": 10,
              "solidity": 0.2
             }
            },
            "type": "histogram"
           }
          ],
          "histogram2d": [
           {
            "colorbar": {
             "outlinewidth": 0,
             "ticks": ""
            },
            "colorscale": [
             [
              0,
              "#0d0887"
             ],
             [
              0.1111111111111111,
              "#46039f"
             ],
             [
              0.2222222222222222,
              "#7201a8"
             ],
             [
              0.3333333333333333,
              "#9c179e"
             ],
             [
              0.4444444444444444,
              "#bd3786"
             ],
             [
              0.5555555555555556,
              "#d8576b"
             ],
             [
              0.6666666666666666,
              "#ed7953"
             ],
             [
              0.7777777777777778,
              "#fb9f3a"
             ],
             [
              0.8888888888888888,
              "#fdca26"
             ],
             [
              1,
              "#f0f921"
             ]
            ],
            "type": "histogram2d"
           }
          ],
          "histogram2dcontour": [
           {
            "colorbar": {
             "outlinewidth": 0,
             "ticks": ""
            },
            "colorscale": [
             [
              0,
              "#0d0887"
             ],
             [
              0.1111111111111111,
              "#46039f"
             ],
             [
              0.2222222222222222,
              "#7201a8"
             ],
             [
              0.3333333333333333,
              "#9c179e"
             ],
             [
              0.4444444444444444,
              "#bd3786"
             ],
             [
              0.5555555555555556,
              "#d8576b"
             ],
             [
              0.6666666666666666,
              "#ed7953"
             ],
             [
              0.7777777777777778,
              "#fb9f3a"
             ],
             [
              0.8888888888888888,
              "#fdca26"
             ],
             [
              1,
              "#f0f921"
             ]
            ],
            "type": "histogram2dcontour"
           }
          ],
          "mesh3d": [
           {
            "colorbar": {
             "outlinewidth": 0,
             "ticks": ""
            },
            "type": "mesh3d"
           }
          ],
          "parcoords": [
           {
            "line": {
             "colorbar": {
              "outlinewidth": 0,
              "ticks": ""
             }
            },
            "type": "parcoords"
           }
          ],
          "pie": [
           {
            "automargin": true,
            "type": "pie"
           }
          ],
          "scatter": [
           {
            "marker": {
             "colorbar": {
              "outlinewidth": 0,
              "ticks": ""
             }
            },
            "type": "scatter"
           }
          ],
          "scatter3d": [
           {
            "line": {
             "colorbar": {
              "outlinewidth": 0,
              "ticks": ""
             }
            },
            "marker": {
             "colorbar": {
              "outlinewidth": 0,
              "ticks": ""
             }
            },
            "type": "scatter3d"
           }
          ],
          "scattercarpet": [
           {
            "marker": {
             "colorbar": {
              "outlinewidth": 0,
              "ticks": ""
             }
            },
            "type": "scattercarpet"
           }
          ],
          "scattergeo": [
           {
            "marker": {
             "colorbar": {
              "outlinewidth": 0,
              "ticks": ""
             }
            },
            "type": "scattergeo"
           }
          ],
          "scattergl": [
           {
            "marker": {
             "colorbar": {
              "outlinewidth": 0,
              "ticks": ""
             }
            },
            "type": "scattergl"
           }
          ],
          "scattermapbox": [
           {
            "marker": {
             "colorbar": {
              "outlinewidth": 0,
              "ticks": ""
             }
            },
            "type": "scattermapbox"
           }
          ],
          "scatterpolar": [
           {
            "marker": {
             "colorbar": {
              "outlinewidth": 0,
              "ticks": ""
             }
            },
            "type": "scatterpolar"
           }
          ],
          "scatterpolargl": [
           {
            "marker": {
             "colorbar": {
              "outlinewidth": 0,
              "ticks": ""
             }
            },
            "type": "scatterpolargl"
           }
          ],
          "scatterternary": [
           {
            "marker": {
             "colorbar": {
              "outlinewidth": 0,
              "ticks": ""
             }
            },
            "type": "scatterternary"
           }
          ],
          "surface": [
           {
            "colorbar": {
             "outlinewidth": 0,
             "ticks": ""
            },
            "colorscale": [
             [
              0,
              "#0d0887"
             ],
             [
              0.1111111111111111,
              "#46039f"
             ],
             [
              0.2222222222222222,
              "#7201a8"
             ],
             [
              0.3333333333333333,
              "#9c179e"
             ],
             [
              0.4444444444444444,
              "#bd3786"
             ],
             [
              0.5555555555555556,
              "#d8576b"
             ],
             [
              0.6666666666666666,
              "#ed7953"
             ],
             [
              0.7777777777777778,
              "#fb9f3a"
             ],
             [
              0.8888888888888888,
              "#fdca26"
             ],
             [
              1,
              "#f0f921"
             ]
            ],
            "type": "surface"
           }
          ],
          "table": [
           {
            "cells": {
             "fill": {
              "color": "#EBF0F8"
             },
             "line": {
              "color": "white"
             }
            },
            "header": {
             "fill": {
              "color": "#C8D4E3"
             },
             "line": {
              "color": "white"
             }
            },
            "type": "table"
           }
          ]
         },
         "layout": {
          "annotationdefaults": {
           "arrowcolor": "#2a3f5f",
           "arrowhead": 0,
           "arrowwidth": 1
          },
          "autotypenumbers": "strict",
          "coloraxis": {
           "colorbar": {
            "outlinewidth": 0,
            "ticks": ""
           }
          },
          "colorscale": {
           "diverging": [
            [
             0,
             "#8e0152"
            ],
            [
             0.1,
             "#c51b7d"
            ],
            [
             0.2,
             "#de77ae"
            ],
            [
             0.3,
             "#f1b6da"
            ],
            [
             0.4,
             "#fde0ef"
            ],
            [
             0.5,
             "#f7f7f7"
            ],
            [
             0.6,
             "#e6f5d0"
            ],
            [
             0.7,
             "#b8e186"
            ],
            [
             0.8,
             "#7fbc41"
            ],
            [
             0.9,
             "#4d9221"
            ],
            [
             1,
             "#276419"
            ]
           ],
           "sequential": [
            [
             0,
             "#0d0887"
            ],
            [
             0.1111111111111111,
             "#46039f"
            ],
            [
             0.2222222222222222,
             "#7201a8"
            ],
            [
             0.3333333333333333,
             "#9c179e"
            ],
            [
             0.4444444444444444,
             "#bd3786"
            ],
            [
             0.5555555555555556,
             "#d8576b"
            ],
            [
             0.6666666666666666,
             "#ed7953"
            ],
            [
             0.7777777777777778,
             "#fb9f3a"
            ],
            [
             0.8888888888888888,
             "#fdca26"
            ],
            [
             1,
             "#f0f921"
            ]
           ],
           "sequentialminus": [
            [
             0,
             "#0d0887"
            ],
            [
             0.1111111111111111,
             "#46039f"
            ],
            [
             0.2222222222222222,
             "#7201a8"
            ],
            [
             0.3333333333333333,
             "#9c179e"
            ],
            [
             0.4444444444444444,
             "#bd3786"
            ],
            [
             0.5555555555555556,
             "#d8576b"
            ],
            [
             0.6666666666666666,
             "#ed7953"
            ],
            [
             0.7777777777777778,
             "#fb9f3a"
            ],
            [
             0.8888888888888888,
             "#fdca26"
            ],
            [
             1,
             "#f0f921"
            ]
           ]
          },
          "colorway": [
           "#636efa",
           "#EF553B",
           "#00cc96",
           "#ab63fa",
           "#FFA15A",
           "#19d3f3",
           "#FF6692",
           "#B6E880",
           "#FF97FF",
           "#FECB52"
          ],
          "font": {
           "color": "#2a3f5f"
          },
          "geo": {
           "bgcolor": "white",
           "lakecolor": "white",
           "landcolor": "#E5ECF6",
           "showlakes": true,
           "showland": true,
           "subunitcolor": "white"
          },
          "hoverlabel": {
           "align": "left"
          },
          "hovermode": "closest",
          "mapbox": {
           "style": "light"
          },
          "paper_bgcolor": "white",
          "plot_bgcolor": "#E5ECF6",
          "polar": {
           "angularaxis": {
            "gridcolor": "white",
            "linecolor": "white",
            "ticks": ""
           },
           "bgcolor": "#E5ECF6",
           "radialaxis": {
            "gridcolor": "white",
            "linecolor": "white",
            "ticks": ""
           }
          },
          "scene": {
           "xaxis": {
            "backgroundcolor": "#E5ECF6",
            "gridcolor": "white",
            "gridwidth": 2,
            "linecolor": "white",
            "showbackground": true,
            "ticks": "",
            "zerolinecolor": "white"
           },
           "yaxis": {
            "backgroundcolor": "#E5ECF6",
            "gridcolor": "white",
            "gridwidth": 2,
            "linecolor": "white",
            "showbackground": true,
            "ticks": "",
            "zerolinecolor": "white"
           },
           "zaxis": {
            "backgroundcolor": "#E5ECF6",
            "gridcolor": "white",
            "gridwidth": 2,
            "linecolor": "white",
            "showbackground": true,
            "ticks": "",
            "zerolinecolor": "white"
           }
          },
          "shapedefaults": {
           "line": {
            "color": "#2a3f5f"
           }
          },
          "ternary": {
           "aaxis": {
            "gridcolor": "white",
            "linecolor": "white",
            "ticks": ""
           },
           "baxis": {
            "gridcolor": "white",
            "linecolor": "white",
            "ticks": ""
           },
           "bgcolor": "#E5ECF6",
           "caxis": {
            "gridcolor": "white",
            "linecolor": "white",
            "ticks": ""
           }
          },
          "title": {
           "x": 0.05
          },
          "xaxis": {
           "automargin": true,
           "gridcolor": "white",
           "linecolor": "white",
           "ticks": "",
           "title": {
            "standoff": 15
           },
           "zerolinecolor": "white",
           "zerolinewidth": 2
          },
          "yaxis": {
           "automargin": true,
           "gridcolor": "white",
           "linecolor": "white",
           "ticks": "",
           "title": {
            "standoff": 15
           },
           "zerolinecolor": "white",
           "zerolinewidth": 2
          }
         }
        },
        "title": {
         "text": "World Stock Trade Map",
         "x": 0.5
        }
       }
      },
      "text/html": [
       "<div>                            <div id=\"61baf5e6-9fd6-4128-98ff-3e965ddb4a2d\" class=\"plotly-graph-div\" style=\"height:525px; width:100%;\"></div>            <script type=\"text/javascript\">                require([\"plotly\"], function(Plotly) {                    window.PLOTLYENV=window.PLOTLYENV || {};                                    if (document.getElementById(\"61baf5e6-9fd6-4128-98ff-3e965ddb4a2d\")) {                    Plotly.newPlot(                        \"61baf5e6-9fd6-4128-98ff-3e965ddb4a2d\",                        [{\"colorscale\":[[0.0,\"#000004\"],[0.1111111111111111,\"#1b0c41\"],[0.2222222222222222,\"#4a0c6b\"],[0.3333333333333333,\"#781c6d\"],[0.4444444444444444,\"#a52c60\"],[0.5555555555555556,\"#cf4446\"],[0.6666666666666666,\"#ed6925\"],[0.7777777777777778,\"#fb9b06\"],[0.8888888888888888,\"#f7d13d\"],[1.0,\"#fcffa4\"]],\"locationmode\":\"country names\",\"locations\":[\"United States\",\"Ireland\",\"United States\",\"United States\",\"United States\",\"United States\",\"United States\",null,\"United States\",\"United States\",\"Netherlands\",null,\"United States\",\"United States\",\"China\",\"United States\",\"United States\",\"United States\",\"Israel\",\"United States\",\"United States\",\"United States\",\"United States\",null,\"United States\",\"Guernsey\",\"United States\",\"United States\",\"United States\",\"United States\",\"Sweden\",\"United States\",\"United States\",\"United States\",\"United States\",\"United States\",\"United States\",\"United States\",\"United States\",\"United States\",\"United States\",\"United States\",\"United States\",\"United States\",\"United States\",\"United States\",\"India\",\"United States\",\"United States\",\"United States\",\"United States\",\"United States\",\"United States\",\"United States\",\"United States\",\"United States\",\"United States\",\"United States\",\"United States\",\"United States\",\"United States\",\"United States\",\"United States\",\"United States\",\"United States\",\"United States\",\"Israel\",\"United States\",\"Finland\",\"United States\",\"United States\",\"United States\",\"Netherlands\",\"United States\",\"United States\",\"United States\",\"United States\",null,\"United States\",null,null,\"United States\",\"United States\",\"United States\",\"United States\",\"Germany\",\"United States\",\"Israel\",\"United States\",\"United States\",\"United States\",\"United States\",\"United States\",\"United States\",\"Switzerland\",\"Ireland\",\"United States\",\"Australia\",\"Switzerland\",\"Taiwan\",\"United States\",\"United States\",\"United States\",\"United States\",\"United States\",null,\"United States\",\"Taiwan\",\"United States\",\"United States\",\"United States\",\"United States\",\"India\",\"United States\",\"United States\",\"United States\",\"United States\"],\"text\":[\"United States\",\"Ireland\",\"United States\",\"United States\",\"United States\",\"United States\",\"United States\",null,\"United States\",\"United States\",\"Netherlands\",null,\"United States\",\"United States\",\"China\",\"United States\",\"United States\",\"United States\",\"Israel\",\"United States\",\"United States\",\"United States\",\"United States\",null,\"United States\",\"Guernsey\",\"United States\",\"United States\",\"United States\",\"United States\",\"Sweden\",\"United States\",\"United States\",\"United States\",\"United States\",\"United States\",\"United States\",\"United States\",\"United States\",\"United States\",\"United States\",\"United States\",\"United States\",\"United States\",\"United States\",\"United States\",\"India\",\"United States\",\"United States\",\"United States\",\"United States\",\"United States\",\"United States\",\"United States\",\"United States\",\"United States\",\"United States\",\"United States\",\"United States\",\"United States\",\"United States\",\"United States\",\"United States\",\"United States\",\"United States\",\"United States\",\"Israel\",\"United States\",\"Finland\",\"United States\",\"United States\",\"United States\",\"Netherlands\",\"United States\",\"United States\",\"United States\",\"United States\",null,\"United States\",null,null,\"United States\",\"United States\",\"United States\",\"United States\",\"Germany\",\"United States\",\"Israel\",\"United States\",\"United States\",\"United States\",\"United States\",\"United States\",\"United States\",\"Switzerland\",\"Ireland\",\"United States\",\"Australia\",\"Switzerland\",\"Taiwan\",\"United States\",\"United States\",\"United States\",\"United States\",\"United States\",null,\"United States\",\"Taiwan\",\"United States\",\"United States\",\"United States\",\"United States\",\"India\",\"United States\",\"United States\",\"United States\",\"United States\"],\"z\":[18.409355221656746,15.682817878888452,15.720810148478504,15.642661784626318,14.611268477007714,16.43700884014619,18.35895894545767,15.350370172274117,13.863057092003368,15.369090457729023,13.918587768864654,15.906778639612709,15.88612450079143,12.92254809375093,15.854552802233176,13.857203213349333,14.511623336787505,15.328342411305062,13.8671404956811,16.165954047834067,15.560672183132057,15.77867232415078,15.372198958345624,16.417263953374057,15.15241743905713,13.983756009590984,14.80148741430333,15.980348297934622,14.158476663701803,13.713912953666975,15.806912921920944,15.454513874559874,14.051432911480012,15.556609690339624,15.919276107722819,14.726813270327275,15.573629303567019,16.493151309793987,14.505574490195437,15.710117337393312,18.147701230562674,17.92609841402805,16.992199665835315,13.228759156991478,12.912259439597923,17.437178080561516,16.563495960501957,18.205116286110982,14.954714094532685,14.943861244396173,14.329639918377511,15.697902617445543,14.925228615320652,14.520207779257978,14.347685259713774,14.617119689754814,15.988240919694805,14.330190544122864,17.729149297390954,13.442816562826653,16.535624827997857,18.05674321977769,14.204668761611295,15.243608591600864,17.09840345553944,15.742116721095417,12.404931700963058,14.285049079063983,16.643944557952505,14.8862091937236,15.854316155523739,18.255215537262888,14.891698625961252,14.919954807640309,15.75859586376128,16.3855112130368,15.143791728261732,13.375997335716537,13.664585337412676,16.118294131259802,16.85458958814267,14.264068360601003,16.324813353636507,16.426324191635068,14.311575375069001,13.854984123763016,15.036533676032187,14.668328866882856,17.354525529204082,15.503224202505038,14.310673154454777,14.771693700429392,16.093139931258307,14.363083839401147,15.407107054668922,15.570137745081349,14.727106687416546,15.017046094564764,14.974000208927798,16.40202486523879,15.355646193907774,14.857629740837712,16.37763516032828,13.212255268393859,16.063742627739447,17.114819795709252,11.305642959587018,15.714648455494265,14.575970532804844,13.749622860430737,14.807535652986733,15.658602987459846,14.412874546867425,15.26830237962145,13.042141987101335,15.140574520071768,14.809901681667984],\"type\":\"choropleth\"}],                        {\"geo\":{\"lakecolor\":\"white\",\"landcolor\":\"black\",\"oceancolor\":\"azure\",\"projection\":{\"type\":\"orthographic\"},\"scope\":\"world\",\"showocean\":true},\"title\":{\"text\":\"World Stock Trade Map\",\"x\":0.5},\"template\":{\"data\":{\"bar\":[{\"error_x\":{\"color\":\"#2a3f5f\"},\"error_y\":{\"color\":\"#2a3f5f\"},\"marker\":{\"line\":{\"color\":\"#E5ECF6\",\"width\":0.5},\"pattern\":{\"fillmode\":\"overlay\",\"size\":10,\"solidity\":0.2}},\"type\":\"bar\"}],\"barpolar\":[{\"marker\":{\"line\":{\"color\":\"#E5ECF6\",\"width\":0.5},\"pattern\":{\"fillmode\":\"overlay\",\"size\":10,\"solidity\":0.2}},\"type\":\"barpolar\"}],\"carpet\":[{\"aaxis\":{\"endlinecolor\":\"#2a3f5f\",\"gridcolor\":\"white\",\"linecolor\":\"white\",\"minorgridcolor\":\"white\",\"startlinecolor\":\"#2a3f5f\"},\"baxis\":{\"endlinecolor\":\"#2a3f5f\",\"gridcolor\":\"white\",\"linecolor\":\"white\",\"minorgridcolor\":\"white\",\"startlinecolor\":\"#2a3f5f\"},\"type\":\"carpet\"}],\"choropleth\":[{\"colorbar\":{\"outlinewidth\":0,\"ticks\":\"\"},\"type\":\"choropleth\"}],\"contour\":[{\"colorbar\":{\"outlinewidth\":0,\"ticks\":\"\"},\"colorscale\":[[0.0,\"#0d0887\"],[0.1111111111111111,\"#46039f\"],[0.2222222222222222,\"#7201a8\"],[0.3333333333333333,\"#9c179e\"],[0.4444444444444444,\"#bd3786\"],[0.5555555555555556,\"#d8576b\"],[0.6666666666666666,\"#ed7953\"],[0.7777777777777778,\"#fb9f3a\"],[0.8888888888888888,\"#fdca26\"],[1.0,\"#f0f921\"]],\"type\":\"contour\"}],\"contourcarpet\":[{\"colorbar\":{\"outlinewidth\":0,\"ticks\":\"\"},\"type\":\"contourcarpet\"}],\"heatmap\":[{\"colorbar\":{\"outlinewidth\":0,\"ticks\":\"\"},\"colorscale\":[[0.0,\"#0d0887\"],[0.1111111111111111,\"#46039f\"],[0.2222222222222222,\"#7201a8\"],[0.3333333333333333,\"#9c179e\"],[0.4444444444444444,\"#bd3786\"],[0.5555555555555556,\"#d8576b\"],[0.6666666666666666,\"#ed7953\"],[0.7777777777777778,\"#fb9f3a\"],[0.8888888888888888,\"#fdca26\"],[1.0,\"#f0f921\"]],\"type\":\"heatmap\"}],\"heatmapgl\":[{\"colorbar\":{\"outlinewidth\":0,\"ticks\":\"\"},\"colorscale\":[[0.0,\"#0d0887\"],[0.1111111111111111,\"#46039f\"],[0.2222222222222222,\"#7201a8\"],[0.3333333333333333,\"#9c179e\"],[0.4444444444444444,\"#bd3786\"],[0.5555555555555556,\"#d8576b\"],[0.6666666666666666,\"#ed7953\"],[0.7777777777777778,\"#fb9f3a\"],[0.8888888888888888,\"#fdca26\"],[1.0,\"#f0f921\"]],\"type\":\"heatmapgl\"}],\"histogram\":[{\"marker\":{\"pattern\":{\"fillmode\":\"overlay\",\"size\":10,\"solidity\":0.2}},\"type\":\"histogram\"}],\"histogram2d\":[{\"colorbar\":{\"outlinewidth\":0,\"ticks\":\"\"},\"colorscale\":[[0.0,\"#0d0887\"],[0.1111111111111111,\"#46039f\"],[0.2222222222222222,\"#7201a8\"],[0.3333333333333333,\"#9c179e\"],[0.4444444444444444,\"#bd3786\"],[0.5555555555555556,\"#d8576b\"],[0.6666666666666666,\"#ed7953\"],[0.7777777777777778,\"#fb9f3a\"],[0.8888888888888888,\"#fdca26\"],[1.0,\"#f0f921\"]],\"type\":\"histogram2d\"}],\"histogram2dcontour\":[{\"colorbar\":{\"outlinewidth\":0,\"ticks\":\"\"},\"colorscale\":[[0.0,\"#0d0887\"],[0.1111111111111111,\"#46039f\"],[0.2222222222222222,\"#7201a8\"],[0.3333333333333333,\"#9c179e\"],[0.4444444444444444,\"#bd3786\"],[0.5555555555555556,\"#d8576b\"],[0.6666666666666666,\"#ed7953\"],[0.7777777777777778,\"#fb9f3a\"],[0.8888888888888888,\"#fdca26\"],[1.0,\"#f0f921\"]],\"type\":\"histogram2dcontour\"}],\"mesh3d\":[{\"colorbar\":{\"outlinewidth\":0,\"ticks\":\"\"},\"type\":\"mesh3d\"}],\"parcoords\":[{\"line\":{\"colorbar\":{\"outlinewidth\":0,\"ticks\":\"\"}},\"type\":\"parcoords\"}],\"pie\":[{\"automargin\":true,\"type\":\"pie\"}],\"scatter\":[{\"marker\":{\"colorbar\":{\"outlinewidth\":0,\"ticks\":\"\"}},\"type\":\"scatter\"}],\"scatter3d\":[{\"line\":{\"colorbar\":{\"outlinewidth\":0,\"ticks\":\"\"}},\"marker\":{\"colorbar\":{\"outlinewidth\":0,\"ticks\":\"\"}},\"type\":\"scatter3d\"}],\"scattercarpet\":[{\"marker\":{\"colorbar\":{\"outlinewidth\":0,\"ticks\":\"\"}},\"type\":\"scattercarpet\"}],\"scattergeo\":[{\"marker\":{\"colorbar\":{\"outlinewidth\":0,\"ticks\":\"\"}},\"type\":\"scattergeo\"}],\"scattergl\":[{\"marker\":{\"colorbar\":{\"outlinewidth\":0,\"ticks\":\"\"}},\"type\":\"scattergl\"}],\"scattermapbox\":[{\"marker\":{\"colorbar\":{\"outlinewidth\":0,\"ticks\":\"\"}},\"type\":\"scattermapbox\"}],\"scatterpolar\":[{\"marker\":{\"colorbar\":{\"outlinewidth\":0,\"ticks\":\"\"}},\"type\":\"scatterpolar\"}],\"scatterpolargl\":[{\"marker\":{\"colorbar\":{\"outlinewidth\":0,\"ticks\":\"\"}},\"type\":\"scatterpolargl\"}],\"scatterternary\":[{\"marker\":{\"colorbar\":{\"outlinewidth\":0,\"ticks\":\"\"}},\"type\":\"scatterternary\"}],\"surface\":[{\"colorbar\":{\"outlinewidth\":0,\"ticks\":\"\"},\"colorscale\":[[0.0,\"#0d0887\"],[0.1111111111111111,\"#46039f\"],[0.2222222222222222,\"#7201a8\"],[0.3333333333333333,\"#9c179e\"],[0.4444444444444444,\"#bd3786\"],[0.5555555555555556,\"#d8576b\"],[0.6666666666666666,\"#ed7953\"],[0.7777777777777778,\"#fb9f3a\"],[0.8888888888888888,\"#fdca26\"],[1.0,\"#f0f921\"]],\"type\":\"surface\"}],\"table\":[{\"cells\":{\"fill\":{\"color\":\"#EBF0F8\"},\"line\":{\"color\":\"white\"}},\"header\":{\"fill\":{\"color\":\"#C8D4E3\"},\"line\":{\"color\":\"white\"}},\"type\":\"table\"}]},\"layout\":{\"annotationdefaults\":{\"arrowcolor\":\"#2a3f5f\",\"arrowhead\":0,\"arrowwidth\":1},\"autotypenumbers\":\"strict\",\"coloraxis\":{\"colorbar\":{\"outlinewidth\":0,\"ticks\":\"\"}},\"colorscale\":{\"diverging\":[[0,\"#8e0152\"],[0.1,\"#c51b7d\"],[0.2,\"#de77ae\"],[0.3,\"#f1b6da\"],[0.4,\"#fde0ef\"],[0.5,\"#f7f7f7\"],[0.6,\"#e6f5d0\"],[0.7,\"#b8e186\"],[0.8,\"#7fbc41\"],[0.9,\"#4d9221\"],[1,\"#276419\"]],\"sequential\":[[0.0,\"#0d0887\"],[0.1111111111111111,\"#46039f\"],[0.2222222222222222,\"#7201a8\"],[0.3333333333333333,\"#9c179e\"],[0.4444444444444444,\"#bd3786\"],[0.5555555555555556,\"#d8576b\"],[0.6666666666666666,\"#ed7953\"],[0.7777777777777778,\"#fb9f3a\"],[0.8888888888888888,\"#fdca26\"],[1.0,\"#f0f921\"]],\"sequentialminus\":[[0.0,\"#0d0887\"],[0.1111111111111111,\"#46039f\"],[0.2222222222222222,\"#7201a8\"],[0.3333333333333333,\"#9c179e\"],[0.4444444444444444,\"#bd3786\"],[0.5555555555555556,\"#d8576b\"],[0.6666666666666666,\"#ed7953\"],[0.7777777777777778,\"#fb9f3a\"],[0.8888888888888888,\"#fdca26\"],[1.0,\"#f0f921\"]]},\"colorway\":[\"#636efa\",\"#EF553B\",\"#00cc96\",\"#ab63fa\",\"#FFA15A\",\"#19d3f3\",\"#FF6692\",\"#B6E880\",\"#FF97FF\",\"#FECB52\"],\"font\":{\"color\":\"#2a3f5f\"},\"geo\":{\"bgcolor\":\"white\",\"lakecolor\":\"white\",\"landcolor\":\"#E5ECF6\",\"showlakes\":true,\"showland\":true,\"subunitcolor\":\"white\"},\"hoverlabel\":{\"align\":\"left\"},\"hovermode\":\"closest\",\"mapbox\":{\"style\":\"light\"},\"paper_bgcolor\":\"white\",\"plot_bgcolor\":\"#E5ECF6\",\"polar\":{\"angularaxis\":{\"gridcolor\":\"white\",\"linecolor\":\"white\",\"ticks\":\"\"},\"bgcolor\":\"#E5ECF6\",\"radialaxis\":{\"gridcolor\":\"white\",\"linecolor\":\"white\",\"ticks\":\"\"}},\"scene\":{\"xaxis\":{\"backgroundcolor\":\"#E5ECF6\",\"gridcolor\":\"white\",\"gridwidth\":2,\"linecolor\":\"white\",\"showbackground\":true,\"ticks\":\"\",\"zerolinecolor\":\"white\"},\"yaxis\":{\"backgroundcolor\":\"#E5ECF6\",\"gridcolor\":\"white\",\"gridwidth\":2,\"linecolor\":\"white\",\"showbackground\":true,\"ticks\":\"\",\"zerolinecolor\":\"white\"},\"zaxis\":{\"backgroundcolor\":\"#E5ECF6\",\"gridcolor\":\"white\",\"gridwidth\":2,\"linecolor\":\"white\",\"showbackground\":true,\"ticks\":\"\",\"zerolinecolor\":\"white\"}},\"shapedefaults\":{\"line\":{\"color\":\"#2a3f5f\"}},\"ternary\":{\"aaxis\":{\"gridcolor\":\"white\",\"linecolor\":\"white\",\"ticks\":\"\"},\"baxis\":{\"gridcolor\":\"white\",\"linecolor\":\"white\",\"ticks\":\"\"},\"bgcolor\":\"#E5ECF6\",\"caxis\":{\"gridcolor\":\"white\",\"linecolor\":\"white\",\"ticks\":\"\"}},\"title\":{\"x\":0.05},\"xaxis\":{\"automargin\":true,\"gridcolor\":\"white\",\"linecolor\":\"white\",\"ticks\":\"\",\"title\":{\"standoff\":15},\"zerolinecolor\":\"white\",\"zerolinewidth\":2},\"yaxis\":{\"automargin\":true,\"gridcolor\":\"white\",\"linecolor\":\"white\",\"ticks\":\"\",\"title\":{\"standoff\":15},\"zerolinecolor\":\"white\",\"zerolinewidth\":2}}}},                        {\"responsive\": true}                    ).then(function(){\n",
       "                            \n",
       "var gd = document.getElementById('61baf5e6-9fd6-4128-98ff-3e965ddb4a2d');\n",
       "var x = new MutationObserver(function (mutations, observer) {{\n",
       "        var display = window.getComputedStyle(gd).display;\n",
       "        if (!display || display === 'none') {{\n",
       "            console.log([gd, 'removed!']);\n",
       "            Plotly.purge(gd);\n",
       "            observer.disconnect();\n",
       "        }}\n",
       "}});\n",
       "\n",
       "// Listen for the removal of the full notebook cells\n",
       "var notebookContainer = gd.closest('#notebook-container');\n",
       "if (notebookContainer) {{\n",
       "    x.observe(notebookContainer, {childList: true});\n",
       "}}\n",
       "\n",
       "// Listen for the clearing of the current output cell\n",
       "var outputEl = gd.closest('.output');\n",
       "if (outputEl) {{\n",
       "    x.observe(outputEl, {childList: true});\n",
       "}}\n",
       "\n",
       "                        })                };                });            </script>        </div>"
      ]
     },
     "metadata": {},
     "output_type": "display_data"
    }
   ],
   "source": [
    "fig_choropleth = go.Figure(data=data_choropleth, layout=layout_choropleth)\n",
    "\n",
    "fig_choropleth.show()"
   ]
  },
  {
   "cell_type": "code",
   "execution_count": 55,
   "id": "a88ed4ad",
   "metadata": {},
   "outputs": [
    {
     "name": "stdout",
     "output_type": "stream",
     "text": [
      "Industry\n",
      "Computer Manufacturing                                           -1.226667\n",
      "Computer Software: Prepackaged Software                          -0.625097\n",
      "Computer Software: Programming Data Processing                    3.278000\n",
      "Computer peripheral equipment                                    -0.590250\n",
      "EDP Services                                                     -1.107630\n",
      "Electrical Products                                              -3.042000\n",
      "Electronic Components                                            -0.740000\n",
      "Industrial Machinery/Components                                  -1.280000\n",
      "Interactive Media                                                -0.603000\n",
      "Internet and Information Services                                -1.348500\n",
      "Radio And Television Broadcasting And Communications Equipment   -1.649000\n",
      "Retail: Computer Software & Peripheral Equipment                 -0.904200\n",
      "Security Systems Services                                        -1.261000\n",
      "Semiconductors                                                   -1.421435\n",
      "Name: % Change, dtype: float64\n"
     ]
    }
   ],
   "source": [
    "# Group the data by industry and calculate the mean of the '% Change' column\n",
    "mean_pct_change_by_industry = ticker_list.groupby('Industry')['% Change'].mean()\n",
    "\n",
    "# Print the result\n",
    "print(mean_pct_change_by_industry)"
   ]
  },
  {
   "cell_type": "code",
   "execution_count": 56,
   "id": "aaeb07a6",
   "metadata": {},
   "outputs": [
    {
     "data": {
      "image/png": "[encoded data removed]",
      "text/plain": [
       "<Figure size 720x432 with 1 Axes>"
      ]
     },
     "metadata": {
      "needs_background": "light"
     },
     "output_type": "display_data"
    }
   ],
   "source": [
    "# create a bar chart\n",
    "fig, ax = plt.subplots(figsize=(10, 6))\n",
    "ax.bar(mean_pct_change_by_industry.index, mean_pct_change_by_industry.values)\n",
    "ax.set_xlabel('Industry')\n",
    "ax.set_ylabel('Average % Change')\n",
    "ax.set_title('Average % Change by Industry')\n",
    "plt.xticks(rotation=90)\n",
    "plt.show()"
   ]
  },
  {
   "cell_type": "code",
   "execution_count": 57,
   "id": "d5f31860",
   "metadata": {},
   "outputs": [
    {
     "name": "stdout",
     "output_type": "stream",
     "text": [
      "Industry\n",
      "Computer Manufacturing                                            4.544282e+07\n",
      "Computer Software: Prepackaged Software                           6.171253e+06\n",
      "Computer Software: Programming Data Processing                    5.927003e+06\n",
      "Computer peripheral equipment                                     5.991921e+06\n",
      "EDP Services                                                      6.111828e+06\n",
      "Electrical Products                                               5.510703e+06\n",
      "Electronic Components                                             5.199477e+06\n",
      "Industrial Machinery/Components                                   2.504318e+06\n",
      "Interactive Media                                                 1.000198e+07\n",
      "Internet and Information Services                                 5.540181e+07\n",
      "Radio And Television Broadcasting And Communications Equipment    6.158654e+06\n",
      "Retail: Computer Software & Peripheral Equipment                  6.948967e+06\n",
      "Security Systems Services                                         4.898117e+06\n",
      "Semiconductors                                                    1.785212e+07\n",
      "Name: Volume, dtype: float64\n"
     ]
    }
   ],
   "source": [
    "# Group the data by industry and calculate the mean of the 'Volume' column\n",
    "mean_volume_by_industry = ticker_list.groupby('Industry')['Volume'].mean()\n",
    "\n",
    "# Print the result\n",
    "print(mean_volume_by_industry)"
   ]
  },
  {
   "cell_type": "code",
   "execution_count": 58,
   "id": "2e9329ce",
   "metadata": {},
   "outputs": [
    {
     "data": {
      "image/png": "[encoded data removed]",
      "text/plain": [
       "<Figure size 720x432 with 1 Axes>"
      ]
     },
     "metadata": {
      "needs_background": "light"
     },
     "output_type": "display_data"
    }
   ],
   "source": [
    "# create a bar chart\n",
    "fig, ax = plt.subplots(figsize=(10, 6))\n",
    "ax.bar(mean_volume_by_industry.index, mean_volume_by_industry.values)\n",
    "ax.set_xlabel('Industry')\n",
    "ax.set_ylabel('Average Volume')\n",
    "ax.set_title('Average Volume by Industry')\n",
    "plt.xticks(rotation=90)\n",
    "plt.show()"
   ]
  },
  {
   "cell_type": "markdown",
   "id": "0da4cf82",
   "metadata": {},
   "source": [
    "<a class=\"anchor\" id=\"3\">\n",
    "\n",
    "# 3. Create the APP and the Notifications System\n",
    "\n",
    " </a>"
   ]
  },
  {
   "cell_type": "markdown",
   "id": "6b3c1201",
   "metadata": {},
   "source": [
    "<a class=\"anchor\" id=\"3.1\">\n",
    "\n",
    "## 3.1 Email and SMS Notifications\n",
    "\n",
    " </a> "
   ]
  },
  {
   "cell_type": "code",
   "execution_count": 59,
   "id": "24dd0573",
   "metadata": {},
   "outputs": [],
   "source": [
    "def send_alert(subject, body, to):\n",
    "    msg = EmailMessage()\n",
    "    msg.set_content(body)\n",
    "    msg['subject'] = subject\n",
    "    msg['to'] = to\n",
    "\n",
    "    user = 'johnasc96@gmail.com'                                                   # email <-- Update here\n",
    "    msg['from'] = user\n",
    "    password = 'wcclgjnjmbcjmydo'                                                  # password from gmail <-- Update here\n",
    "\n",
    "      # set server parameters\n",
    "    server = smtplib.SMTP ('smtp.gmail.com', 587)                                  # create server variable\n",
    "    server.starttls()\n",
    "    server.login(user,password)\n",
    "    server.send_message(msg)\n",
    "\n",
    "    server.quit()"
   ]
  },
  {
   "cell_type": "code",
   "execution_count": 60,
   "id": "c3a1860e",
   "metadata": {},
   "outputs": [],
   "source": [
    "app = Dash(__name__)\n",
    "app.layout = html.Div([\n",
    "    html.H1(\"Stock Market Notification System (Email and SMS)\", style={'textAlign': 'center'}),\n",
    "    dcc.Interval(id='trigger', interval=1000*10), # 10 seconds\n",
    "    dcc.Dropdown(id='ticker-name', options=ticker_list['Symbol'], value='MSFT', clearable=False, style={'width': '50%'}),\n",
    "    html.Div(id='price-placeholder', children=[]),\n",
    "    dcc.Graph(id='line-history', figure={}),\n",
    "    html.Hr(),\n",
    "\n",
    "    html.Div('Would you like to set up email or phone alerts for price changes?'),\n",
    "    dcc.RadioItems(id='alert-permission', options=['No','Yes, email alerts', 'Yes, phone alerts'], value='No'),\n",
    "    html.Div('Alert me when share price is equal or above:'),\n",
    "    dcc.Input(id='alert-value', type='number', min=0, max=1000, value=0),\n",
    "])"
   ]
  },
  {
   "cell_type": "code",
   "execution_count": 61,
   "id": "7dc0a73b",
   "metadata": {},
   "outputs": [],
   "source": [
    "@app.callback(\n",
    "    Output('line-history', 'figure'),\n",
    "    Output('price-placeholder', 'children'),\n",
    "    Input('trigger', 'n_intervals'),\n",
    "    Input('ticker-name', 'value'),\n",
    "    State('alert-permission', 'value'),\n",
    "    State('alert-value', 'value'),\n",
    ")\n",
    "def display_price(_, ticker_name, alert_permission, alert_value):\n",
    "    fmp = FMP(output_format='pandas', api_key='627aaecb52f1f08e5ddda8a4490ef225')                          # <-- Update here-------------------\n",
    "    stock = fmp.get_quote_short(ticker_name)\n",
    "    stock_history = fmp.get_historical_chart('1hour', ticker_name)\n",
    "    current_time = datetime.now().strftime(\"%H:%M:%S\")\n",
    "\n",
    "    if alert_permission == 'Yes, phone alerts':\n",
    "        if stock.price[0] >= alert_value:\n",
    "            send_alert('Alert: Buy Stock',\n",
    "                        f'{ticker_name} passed your alert threshold of ${alert_value} '\n",
    "                        f'and is now at ${stock.price[0]} per share.',\n",
    "                        '351914172220@sms.vodafone.pt')                                                  # <-- Update here-------------------\n",
    "\n",
    "    elif alert_permission == 'Yes, email alerts':\n",
    "        if stock.price[0] >= alert_value:\n",
    "            send_alert('Alert: Buy Stock',\n",
    "                        f'{ticker_name} passed your alert threshold of ${alert_value} '\n",
    "                        f'and is now at ${stock.price[0]} per share.',\n",
    "                        'EmailToAddress@gmail.com')                                              # <-- Update here-------------------\n",
    "\n",
    "    history_fig = px.line(stock_history, x='date', y='high')\n",
    "    return history_fig, html.Pre(f\"Time: {current_time}\\nPrice: ${stock.price[0]}\")\n"
   ]
  },
  {
   "cell_type": "code",
   "execution_count": 62,
   "id": "ecc73304",
   "metadata": {},
   "outputs": [
    {
     "name": "stdout",
     "output_type": "stream",
     "text": [
      "Dash is running on http://127.0.0.1:8050/\n",
      "\n",
      " * Serving Flask app \"__main__\" (lazy loading)\n",
      " * Environment: production\n",
      "\u001b[31m   WARNING: This is a development server. Do not use it in a production deployment.\u001b[0m\n",
      "\u001b[2m   Use a production WSGI server instead.\u001b[0m\n",
      " * Debug mode: off\n"
     ]
    },
    {
     "name": "stderr",
     "output_type": "stream",
     "text": [
      " * Running on http://127.0.0.1:8050/ (Press CTRL+C to quit)\n",
      "127.0.0.1 - - [08/Apr/2023 19:27:45] \"GET / HTTP/1.1\" 200 -\n",
      "127.0.0.1 - - [08/Apr/2023 19:27:46] \"GET /_dash-layout HTTP/1.1\" 200 -\n",
      "127.0.0.1 - - [08/Apr/2023 19:27:46] \"GET /_dash-dependencies HTTP/1.1\" 200 -\n",
      "127.0.0.1 - - [08/Apr/2023 19:27:46] \"GET /_favicon.ico?v=2.9.2 HTTP/1.1\" 200 -\n",
      "127.0.0.1 - - [08/Apr/2023 19:27:46] \"GET /_dash-component-suites/dash/dcc/async-dropdown.js HTTP/1.1\" 200 -\n",
      "127.0.0.1 - - [08/Apr/2023 19:27:46] \"GET /_dash-component-suites/dash/dcc/async-graph.js HTTP/1.1\" 200 -\n",
      "127.0.0.1 - - [08/Apr/2023 19:27:46] \"GET /_dash-component-suites/dash/dcc/async-plotlyjs.js HTTP/1.1\" 200 -\n",
      "127.0.0.1 - - [08/Apr/2023 19:27:50] \"POST /_dash-update-component HTTP/1.1\" 200 -\n",
      "127.0.0.1 - - [08/Apr/2023 19:27:57] \"POST /_dash-update-component HTTP/1.1\" 200 -\n",
      "127.0.0.1 - - [08/Apr/2023 19:28:08] \"POST /_dash-update-component HTTP/1.1\" 200 -\n",
      "127.0.0.1 - - [08/Apr/2023 19:28:18] \"POST /_dash-update-component HTTP/1.1\" 200 -\n",
      "127.0.0.1 - - [08/Apr/2023 19:28:28] \"POST /_dash-update-component HTTP/1.1\" 200 -\n",
      "127.0.0.1 - - [08/Apr/2023 19:28:38] \"POST /_dash-update-component HTTP/1.1\" 200 -\n",
      "127.0.0.1 - - [08/Apr/2023 19:28:50] \"POST /_dash-update-component HTTP/1.1\" 200 -\n",
      "127.0.0.1 - - [08/Apr/2023 19:28:58] \"POST /_dash-update-component HTTP/1.1\" 200 -\n",
      "127.0.0.1 - - [08/Apr/2023 19:29:08] \"POST /_dash-update-component HTTP/1.1\" 200 -\n",
      "127.0.0.1 - - [08/Apr/2023 19:29:19] \"POST /_dash-update-component HTTP/1.1\" 200 -\n",
      "127.0.0.1 - - [08/Apr/2023 19:29:28] \"POST /_dash-update-component HTTP/1.1\" 200 -\n",
      "127.0.0.1 - - [08/Apr/2023 19:29:38] \"POST /_dash-update-component HTTP/1.1\" 200 -\n",
      "127.0.0.1 - - [08/Apr/2023 19:29:46] \"POST /_dash-update-component HTTP/1.1\" 200 -\n",
      "127.0.0.1 - - [08/Apr/2023 19:29:47] \"POST /_dash-update-component HTTP/1.1\" 200 -\n",
      "127.0.0.1 - - [08/Apr/2023 19:29:58] \"POST /_dash-update-component HTTP/1.1\" 200 -\n",
      "127.0.0.1 - - [08/Apr/2023 19:30:08] \"POST /_dash-update-component HTTP/1.1\" 200 -\n",
      "127.0.0.1 - - [08/Apr/2023 19:30:18] \"POST /_dash-update-component HTTP/1.1\" 200 -\n",
      "127.0.0.1 - - [08/Apr/2023 19:30:28] \"POST /_dash-update-component HTTP/1.1\" 200 -\n",
      "127.0.0.1 - - [08/Apr/2023 19:30:38] \"POST /_dash-update-component HTTP/1.1\" 200 -\n",
      "127.0.0.1 - - [08/Apr/2023 19:30:49] \"POST /_dash-update-component HTTP/1.1\" 200 -\n",
      "127.0.0.1 - - [08/Apr/2023 19:30:57] \"POST /_dash-update-component HTTP/1.1\" 200 -\n",
      "127.0.0.1 - - [08/Apr/2023 19:31:00] \"POST /_dash-update-component HTTP/1.1\" 200 -\n",
      "127.0.0.1 - - [08/Apr/2023 19:31:08] \"POST /_dash-update-component HTTP/1.1\" 200 -\n",
      "127.0.0.1 - - [08/Apr/2023 19:31:15] \"POST /_dash-update-component HTTP/1.1\" 200 -\n",
      "127.0.0.1 - - [08/Apr/2023 19:31:17] \"POST /_dash-update-component HTTP/1.1\" 200 -\n"
     ]
    }
   ],
   "source": [
    "if __name__ == '__main__':\n",
    "    app.run()"
   ]
  },
  {
   "cell_type": "markdown",
   "id": "3b88f8ad",
   "metadata": {},
   "source": [
    "<a class=\"anchor\" id=\"3.2\">\n",
    "\n",
    "## 3.2 Telegram Notifications\n",
    "\n",
    " </a> "
   ]
  },
  {
   "cell_type": "code",
   "execution_count": 63,
   "id": "2a8e8d26",
   "metadata": {},
   "outputs": [],
   "source": [
    "# Define a Python function to get real time stock data\n",
    "# This function will accept one input ticker as its parameter\n",
    "\n",
    "def getStockData(ticker):\n",
    "    base_url = \"https://financialmodelingprep.com/api/v3/quote/\"     # Split the HTTP request URL into three parts so that we can build a dynamic API request URL based on the input ticker and individual API key.\n",
    "    key = \"627aaecb52f1f08e5ddda8a4490ef225\"\n",
    "    full_url = base_url + ticker + \"?apikey=\" + key\n",
    "    r = requests.get(full_url)                                       # Use the Python requests module to get the real time stock data via the FMP API request URL and return the data in JSON format.\n",
    "    stock_data= r.json()\n",
    "    return stock_data"
   ]
  },
  {
   "cell_type": "code",
   "execution_count": 64,
   "id": "b9cfe476",
   "metadata": {},
   "outputs": [],
   "source": [
    "def generateMessage(data):\n",
    "    symbol = data[0]['symbol']\n",
    "    price = data[0][\"price\"]\n",
    "    changesPercent = data[0][\"changesPercentage\"]\n",
    "    timestamp = data[0]['timestamp']\n",
    "    \n",
    "    current = datetime.fromtimestamp(timestamp)\n",
    "    message = str(current)\n",
    "    message += \"\\n\" + symbol \n",
    "    message += \"\\n$\" + str(price)\n",
    "    \n",
    "    if(changesPercent < -2):\n",
    "        message += \"\\nWarning! Price drop more than 2%!\"\n",
    "        \n",
    "    return message"
   ]
  },
  {
   "cell_type": "code",
   "execution_count": 65,
   "id": "1a8514df",
   "metadata": {},
   "outputs": [],
   "source": [
    "def sendMessage(text):\n",
    "    token = '6138788409:AAFVqj5EETnfvfqs47SPgV5ZAK-nS1cDMP8'\n",
    "    receiver_id = 5817562148      #In Numeric Format\n",
    "    bot = telepot.Bot(token)\n",
    "    bot.sendMessage(receiver_id,text)"
   ]
  },
  {
   "cell_type": "code",
   "execution_count": 66,
   "id": "04295921",
   "metadata": {},
   "outputs": [
    {
     "name": "stdout",
     "output_type": "stream",
     "text": [
      "[2023-04-08 19:31:27,506] [timeloop] [INFO] Starting Timeloop..\n",
      "[2023-04-08 19:31:27,509] [timeloop] [INFO] Registered job <function run_tasks at 0x0000022AED6DD550>\n",
      "[2023-04-08 19:31:27,510] [timeloop] [INFO] Timeloop now started. Jobs will run based on the interval set\n"
     ]
    },
    {
     "name": "stderr",
     "output_type": "stream",
     "text": [
      "Exception in thread Thread-38:\n",
      "Traceback (most recent call last):\n",
      "  File \"C:\\Users\\jcamillius\\Anaconda3\\lib\\threading.py\", line 973, in _bootstrap_inner\n",
      "    self.run()\n",
      "  File \"C:\\Users\\jcamillius\\Anaconda3\\lib\\site-packages\\timeloop\\job.py\", line 19, in run\n",
      "    self.execute(*self.args, **self.kwargs)\n",
      "  File \"C:\\Users\\jcamillius\\AppData\\Local\\Temp\\ipykernel_11012\\989170185.py\", line 16, in run_tasks\n",
      "  File \"C:\\Users\\jcamillius\\AppData\\Local\\Temp\\ipykernel_11012\\3607454363.py\", line 2, in generateMessage\n",
      "IndexError: list index out of range\n"
     ]
    },
    {
     "name": "stdout",
     "output_type": "stream",
     "text": [
      "[2023-04-08 19:32:48,287] [timeloop] [INFO] Stopping job <function run_tasks at 0x0000022AED6DD550>\n",
      "[2023-04-08 19:32:48,288] [timeloop] [INFO] Timeloop exited.\n"
     ]
    }
   ],
   "source": [
    "tl = Timeloop()\n",
    "\n",
    "# Define a list of tickers for the top 50 tech stocks\n",
    "tickers = [\"AAPL\", \"MSFT\", \"AMZN\", \"GOOG\", \"FB\", \"TSLA\", \"NVDA\", \"PYPL\", \"INTC\", \"ASML\", \"NFLX\", \"ADBE\", \"CRM\", \"CSCO\", \"AVGO\", \"ORCL\", \"TXN\", \"SHOP\", \"SQ\", \"BIDU\", \"SE\", \"JD\", \"VMW\", \"IBM\", \"AMD\", \"MU\", \"NOW\", \"UBER\", \"LRCX\", \"ADI\", \"SNPS\", \"TEL\", \"SAP\", \"QCOM\", \"TEAM\", \"KLAC\", \"CRWD\", \"SNOW\", \"MELI\", \"OKTA\", \"ANSS\", \"FTNT\", \"CDNS\", \"DDOG\", \"ZS\", \"TWLO\", \"PANW\", \"WDAY\", \"DOCU\", \"NET\"]\n",
    "\n",
    "@tl.job(interval=timedelta(seconds=60))\n",
    "def run_tasks():\n",
    "    for ticker in tickers:\n",
    "        # Get real-time stock data using FMP API\n",
    "        api_key = \"627aaecb52f1f08e5ddda8a4490ef225\"\n",
    "        url = f\"https://financialmodelingprep.com/api/v3/quote/{ticker}?apikey={api_key}\"\n",
    "        response = requests.get(url)\n",
    "        real_time_data = response.json()\n",
    "\n",
    "        # Generate message for the stock\n",
    "        textMessage = generateMessage(real_time_data)\n",
    "\n",
    "        # Send message using appropriate method\n",
    "        sendMessage(textMessage)\n",
    "\n",
    "tl.start(block=True)\n"
   ]
  },
  {
   "cell_type": "code",
   "execution_count": null,
   "id": "bde228a2",
   "metadata": {},
   "outputs": [],
   "source": []
  }
 ],
 "metadata": {
  "kernelspec": {
   "display_name": "Python 3 (ipykernel)",
   "language": "python",
   "name": "python3"
  },
  "language_info": {
   "codemirror_mode": {
    "name": "ipython",
    "version": 3
   },
   "file_extension": ".py",
   "mimetype": "text/x-python",
   "name": "python",
   "nbconvert_exporter": "python",
   "pygments_lexer": "ipython3",
   "version": "3.9.12"
  }
 },
 "nbformat": 4,
 "nbformat_minor": 5
}
